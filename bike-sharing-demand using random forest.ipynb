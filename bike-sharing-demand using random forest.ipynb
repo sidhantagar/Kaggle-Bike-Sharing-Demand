{
 "cells": [
  {
   "cell_type": "code",
   "execution_count": 1,
   "metadata": {
    "_cell_guid": "b1076dfc-b9ad-4769-8c92-a6c4dae69d19",
    "_uuid": "8f2839f25d086af736a60e9eeb907d3b93b6e0e5"
   },
   "outputs": [
    {
     "name": "stdout",
     "output_type": "stream",
     "text": [
      "/kaggle/input/bike-sharing-demand/train.csv\n",
      "/kaggle/input/bike-sharing-demand/sampleSubmission.csv\n",
      "/kaggle/input/bike-sharing-demand/test.csv\n"
     ]
    }
   ],
   "source": [
    "# This Python 3 environment comes with many helpful analytics libraries installed\n",
    "# It is defined by the kaggle/python docker image: https://github.com/kaggle/docker-python\n",
    "# For example, here's several helpful packages to load in \n",
    "\n",
    "import numpy as np # linear algebra\n",
    "import pandas as pd # data processing, CSV file I/O (e.g. pd.read_csv)\n",
    "\n",
    "# Input data files are available in the \"../input/\" directory.\n",
    "# For example, running this (by clicking run or pressing Shift+Enter) will list all files under the input directory\n",
    "\n",
    "import os\n",
    "for dirname, _, filenames in os.walk('/kaggle/input'):\n",
    "    for filename in filenames:\n",
    "        print(os.path.join(dirname, filename))\n",
    "\n",
    "# Any results you write to the current directory are saved as output."
   ]
  },
  {
   "cell_type": "markdown",
   "metadata": {},
   "source": [
    "# Importing important libraries"
   ]
  },
  {
   "cell_type": "code",
   "execution_count": 2,
   "metadata": {},
   "outputs": [],
   "source": [
    "from matplotlib import pyplot as plt\n",
    "import seaborn as sb\n",
    "from sklearn.linear_model import LinearRegression, Ridge\n",
    "from sklearn.ensemble import RandomForestRegressor\n",
    "from sklearn.tree import DecisionTreeRegressor\n",
    "from sklearn.preprocessing import PolynomialFeatures\n",
    "from sklearn.metrics import mean_squared_log_error\n",
    "from sklearn.model_selection import train_test_split"
   ]
  },
  {
   "cell_type": "markdown",
   "metadata": {},
   "source": [
    "# Loading the training dataset"
   ]
  },
  {
   "cell_type": "code",
   "execution_count": 3,
   "metadata": {
    "_cell_guid": "79c7e3d0-c299-4dcb-8224-4455121ee9b0",
    "_uuid": "d629ff2d2480ee46fbb7e2d37f6b5fab8052498a"
   },
   "outputs": [],
   "source": [
    "#Reading the file\n",
    "file = pd.read_csv(\"/kaggle/input/bike-sharing-demand/train.csv\")"
   ]
  },
  {
   "cell_type": "code",
   "execution_count": 4,
   "metadata": {},
   "outputs": [
    {
     "data": {
      "text/html": [
       "<div>\n",
       "<style scoped>\n",
       "    .dataframe tbody tr th:only-of-type {\n",
       "        vertical-align: middle;\n",
       "    }\n",
       "\n",
       "    .dataframe tbody tr th {\n",
       "        vertical-align: top;\n",
       "    }\n",
       "\n",
       "    .dataframe thead th {\n",
       "        text-align: right;\n",
       "    }\n",
       "</style>\n",
       "<table border=\"1\" class=\"dataframe\">\n",
       "  <thead>\n",
       "    <tr style=\"text-align: right;\">\n",
       "      <th></th>\n",
       "      <th>season</th>\n",
       "      <th>holiday</th>\n",
       "      <th>workingday</th>\n",
       "      <th>weather</th>\n",
       "      <th>temp</th>\n",
       "      <th>atemp</th>\n",
       "      <th>humidity</th>\n",
       "      <th>windspeed</th>\n",
       "      <th>casual</th>\n",
       "      <th>registered</th>\n",
       "      <th>count</th>\n",
       "    </tr>\n",
       "  </thead>\n",
       "  <tbody>\n",
       "    <tr>\n",
       "      <th>count</th>\n",
       "      <td>10886.000000</td>\n",
       "      <td>10886.000000</td>\n",
       "      <td>10886.000000</td>\n",
       "      <td>10886.000000</td>\n",
       "      <td>10886.00000</td>\n",
       "      <td>10886.000000</td>\n",
       "      <td>10886.000000</td>\n",
       "      <td>10886.000000</td>\n",
       "      <td>10886.000000</td>\n",
       "      <td>10886.000000</td>\n",
       "      <td>10886.000000</td>\n",
       "    </tr>\n",
       "    <tr>\n",
       "      <th>mean</th>\n",
       "      <td>2.506614</td>\n",
       "      <td>0.028569</td>\n",
       "      <td>0.680875</td>\n",
       "      <td>1.418427</td>\n",
       "      <td>20.23086</td>\n",
       "      <td>23.655084</td>\n",
       "      <td>61.886460</td>\n",
       "      <td>12.799395</td>\n",
       "      <td>36.021955</td>\n",
       "      <td>155.552177</td>\n",
       "      <td>191.574132</td>\n",
       "    </tr>\n",
       "    <tr>\n",
       "      <th>std</th>\n",
       "      <td>1.116174</td>\n",
       "      <td>0.166599</td>\n",
       "      <td>0.466159</td>\n",
       "      <td>0.633839</td>\n",
       "      <td>7.79159</td>\n",
       "      <td>8.474601</td>\n",
       "      <td>19.245033</td>\n",
       "      <td>8.164537</td>\n",
       "      <td>49.960477</td>\n",
       "      <td>151.039033</td>\n",
       "      <td>181.144454</td>\n",
       "    </tr>\n",
       "    <tr>\n",
       "      <th>min</th>\n",
       "      <td>1.000000</td>\n",
       "      <td>0.000000</td>\n",
       "      <td>0.000000</td>\n",
       "      <td>1.000000</td>\n",
       "      <td>0.82000</td>\n",
       "      <td>0.760000</td>\n",
       "      <td>0.000000</td>\n",
       "      <td>0.000000</td>\n",
       "      <td>0.000000</td>\n",
       "      <td>0.000000</td>\n",
       "      <td>1.000000</td>\n",
       "    </tr>\n",
       "    <tr>\n",
       "      <th>25%</th>\n",
       "      <td>2.000000</td>\n",
       "      <td>0.000000</td>\n",
       "      <td>0.000000</td>\n",
       "      <td>1.000000</td>\n",
       "      <td>13.94000</td>\n",
       "      <td>16.665000</td>\n",
       "      <td>47.000000</td>\n",
       "      <td>7.001500</td>\n",
       "      <td>4.000000</td>\n",
       "      <td>36.000000</td>\n",
       "      <td>42.000000</td>\n",
       "    </tr>\n",
       "    <tr>\n",
       "      <th>50%</th>\n",
       "      <td>3.000000</td>\n",
       "      <td>0.000000</td>\n",
       "      <td>1.000000</td>\n",
       "      <td>1.000000</td>\n",
       "      <td>20.50000</td>\n",
       "      <td>24.240000</td>\n",
       "      <td>62.000000</td>\n",
       "      <td>12.998000</td>\n",
       "      <td>17.000000</td>\n",
       "      <td>118.000000</td>\n",
       "      <td>145.000000</td>\n",
       "    </tr>\n",
       "    <tr>\n",
       "      <th>75%</th>\n",
       "      <td>4.000000</td>\n",
       "      <td>0.000000</td>\n",
       "      <td>1.000000</td>\n",
       "      <td>2.000000</td>\n",
       "      <td>26.24000</td>\n",
       "      <td>31.060000</td>\n",
       "      <td>77.000000</td>\n",
       "      <td>16.997900</td>\n",
       "      <td>49.000000</td>\n",
       "      <td>222.000000</td>\n",
       "      <td>284.000000</td>\n",
       "    </tr>\n",
       "    <tr>\n",
       "      <th>max</th>\n",
       "      <td>4.000000</td>\n",
       "      <td>1.000000</td>\n",
       "      <td>1.000000</td>\n",
       "      <td>4.000000</td>\n",
       "      <td>41.00000</td>\n",
       "      <td>45.455000</td>\n",
       "      <td>100.000000</td>\n",
       "      <td>56.996900</td>\n",
       "      <td>367.000000</td>\n",
       "      <td>886.000000</td>\n",
       "      <td>977.000000</td>\n",
       "    </tr>\n",
       "  </tbody>\n",
       "</table>\n",
       "</div>"
      ],
      "text/plain": [
       "             season       holiday    workingday       weather         temp  \\\n",
       "count  10886.000000  10886.000000  10886.000000  10886.000000  10886.00000   \n",
       "mean       2.506614      0.028569      0.680875      1.418427     20.23086   \n",
       "std        1.116174      0.166599      0.466159      0.633839      7.79159   \n",
       "min        1.000000      0.000000      0.000000      1.000000      0.82000   \n",
       "25%        2.000000      0.000000      0.000000      1.000000     13.94000   \n",
       "50%        3.000000      0.000000      1.000000      1.000000     20.50000   \n",
       "75%        4.000000      0.000000      1.000000      2.000000     26.24000   \n",
       "max        4.000000      1.000000      1.000000      4.000000     41.00000   \n",
       "\n",
       "              atemp      humidity     windspeed        casual    registered  \\\n",
       "count  10886.000000  10886.000000  10886.000000  10886.000000  10886.000000   \n",
       "mean      23.655084     61.886460     12.799395     36.021955    155.552177   \n",
       "std        8.474601     19.245033      8.164537     49.960477    151.039033   \n",
       "min        0.760000      0.000000      0.000000      0.000000      0.000000   \n",
       "25%       16.665000     47.000000      7.001500      4.000000     36.000000   \n",
       "50%       24.240000     62.000000     12.998000     17.000000    118.000000   \n",
       "75%       31.060000     77.000000     16.997900     49.000000    222.000000   \n",
       "max       45.455000    100.000000     56.996900    367.000000    886.000000   \n",
       "\n",
       "              count  \n",
       "count  10886.000000  \n",
       "mean     191.574132  \n",
       "std      181.144454  \n",
       "min        1.000000  \n",
       "25%       42.000000  \n",
       "50%      145.000000  \n",
       "75%      284.000000  \n",
       "max      977.000000  "
      ]
     },
     "execution_count": 4,
     "metadata": {},
     "output_type": "execute_result"
    }
   ],
   "source": [
    "file.describe()"
   ]
  },
  {
   "cell_type": "markdown",
   "metadata": {},
   "source": [
    "# Checking for null values"
   ]
  },
  {
   "cell_type": "code",
   "execution_count": 5,
   "metadata": {},
   "outputs": [
    {
     "data": {
      "text/plain": [
       "datetime      0\n",
       "season        0\n",
       "holiday       0\n",
       "workingday    0\n",
       "weather       0\n",
       "temp          0\n",
       "atemp         0\n",
       "humidity      0\n",
       "windspeed     0\n",
       "casual        0\n",
       "registered    0\n",
       "count         0\n",
       "dtype: int64"
      ]
     },
     "execution_count": 5,
     "metadata": {},
     "output_type": "execute_result"
    }
   ],
   "source": [
    "file.isnull().sum(axis=0)"
   ]
  },
  {
   "cell_type": "markdown",
   "metadata": {},
   "source": [
    "No data cleaning is required since no Null values are found!"
   ]
  },
  {
   "cell_type": "code",
   "execution_count": 6,
   "metadata": {},
   "outputs": [
    {
     "data": {
      "text/plain": [
       "Index(['datetime', 'season', 'holiday', 'workingday', 'weather', 'temp',\n",
       "       'atemp', 'humidity', 'windspeed', 'casual', 'registered', 'count'],\n",
       "      dtype='object')"
      ]
     },
     "execution_count": 6,
     "metadata": {},
     "output_type": "execute_result"
    }
   ],
   "source": [
    "file.columns"
   ]
  },
  {
   "cell_type": "markdown",
   "metadata": {},
   "source": [
    "# Data visualization and various conclusions drawn from it"
   ]
  },
  {
   "cell_type": "markdown",
   "metadata": {},
   "source": [
    "We can create a corelational matrix for all continuous values in the file."
   ]
  },
  {
   "cell_type": "code",
   "execution_count": 7,
   "metadata": {},
   "outputs": [],
   "source": [
    "corr = file[['temp','atemp','humidity', 'windspeed','casual', 'registered','count']].corr()"
   ]
  },
  {
   "cell_type": "code",
   "execution_count": 8,
   "metadata": {},
   "outputs": [
    {
     "data": {
      "image/png": "[encoded data removed]",
      "text/plain": [
       "<Figure size 432x288 with 2 Axes>"
      ]
     },
     "metadata": {
      "needs_background": "light"
     },
     "output_type": "display_data"
    },
    {
     "name": "stdout",
     "output_type": "stream",
     "text": [
      "                temp     atemp  humidity  windspeed    casual  registered  \\\n",
      "temp        1.000000  0.984948 -0.064949  -0.017852  0.467097    0.318571   \n",
      "atemp       0.984948  1.000000 -0.043536  -0.057473  0.462067    0.314635   \n",
      "humidity   -0.064949 -0.043536  1.000000  -0.318607 -0.348187   -0.265458   \n",
      "windspeed  -0.017852 -0.057473 -0.318607   1.000000  0.092276    0.091052   \n",
      "casual      0.467097  0.462067 -0.348187   0.092276  1.000000    0.497250   \n",
      "registered  0.318571  0.314635 -0.265458   0.091052  0.497250    1.000000   \n",
      "count       0.394454  0.389784 -0.317371   0.101369  0.690414    0.970948   \n",
      "\n",
      "               count  \n",
      "temp        0.394454  \n",
      "atemp       0.389784  \n",
      "humidity   -0.317371  \n",
      "windspeed   0.101369  \n",
      "casual      0.690414  \n",
      "registered  0.970948  \n",
      "count       1.000000  \n"
     ]
    }
   ],
   "source": [
    "sb.heatmap(corr,square=True)\n",
    "plt.show()\n",
    "print(corr)"
   ]
  },
  {
   "cell_type": "markdown",
   "metadata": {},
   "source": [
    "We can see that temp and atemp have a very strong positive correlation therefore we can use only temp as a variable without any loss of information. \n",
    "\n",
    "We can infer from the correlaton matrix that windspeed has almost no correlation with the casual,registered or count which we wish to predict so we can remove that"
   ]
  },
  {
   "cell_type": "markdown",
   "metadata": {},
   "source": [
    "What I will attempt to do is make separate models for the casual and the registerd training them separately and then adding the result to get the count."
   ]
  },
  {
   "cell_type": "markdown",
   "metadata": {},
   "source": [
    "**Data visualizaton for non continuous variables**"
   ]
  },
  {
   "cell_type": "markdown",
   "metadata": {},
   "source": [
    "## 1. Season"
   ]
  },
  {
   "cell_type": "code",
   "execution_count": 9,
   "metadata": {},
   "outputs": [
    {
     "data": {
      "text/plain": [
       "season\n",
       "1    100.853686\n",
       "2    167.804610\n",
       "3    182.196853\n",
       "4    170.407462\n",
       "Name: registered, dtype: float64"
      ]
     },
     "execution_count": 9,
     "metadata": {},
     "output_type": "execute_result"
    },
    {
     "data": {
      "image/png": "[encoded data removed]",
      "text/plain": [
       "<Figure size 432x288 with 1 Axes>"
      ]
     },
     "metadata": {
      "needs_background": "light"
     },
     "output_type": "display_data"
    }
   ],
   "source": [
    "file.groupby('season')['registered'].mean().plot(kind = 'bar')\n",
    "file.groupby('season')['registered'].mean()"
   ]
  },
  {
   "cell_type": "code",
   "execution_count": 10,
   "metadata": {},
   "outputs": [
    {
     "data": {
      "text/plain": [
       "season\n",
       "1    15.489576\n",
       "2    47.446762\n",
       "3    52.220271\n",
       "4    28.580834\n",
       "Name: casual, dtype: float64"
      ]
     },
     "execution_count": 10,
     "metadata": {},
     "output_type": "execute_result"
    },
    {
     "data": {
      "image/png": "[encoded data removed]",
      "text/plain": [
       "<Figure size 432x288 with 1 Axes>"
      ]
     },
     "metadata": {
      "needs_background": "light"
     },
     "output_type": "display_data"
    }
   ],
   "source": [
    "file.groupby('season')['casual'].mean().plot(kind = 'bar')\n",
    "file.groupby('season')['casual'].mean()"
   ]
  },
  {
   "cell_type": "markdown",
   "metadata": {},
   "source": [
    "## 2. Holiday"
   ]
  },
  {
   "cell_type": "code",
   "execution_count": 11,
   "metadata": {},
   "outputs": [
    {
     "data": {
      "text/plain": [
       "holiday\n",
       "0    156.094941\n",
       "1    137.096463\n",
       "Name: registered, dtype: float64"
      ]
     },
     "execution_count": 11,
     "metadata": {},
     "output_type": "execute_result"
    },
    {
     "data": {
      "image/png": "[encoded data removed]",
      "text/plain": [
       "<Figure size 432x288 with 1 Axes>"
      ]
     },
     "metadata": {
      "needs_background": "light"
     },
     "output_type": "display_data"
    }
   ],
   "source": [
    "file.groupby('holiday')['registered'].mean().plot(kind='bar')\n",
    "file.groupby('holiday')['registered'].mean()"
   ]
  },
  {
   "cell_type": "code",
   "execution_count": 12,
   "metadata": {},
   "outputs": [
    {
     "data": {
      "text/plain": [
       "holiday\n",
       "0    35.646714\n",
       "1    48.781350\n",
       "Name: casual, dtype: float64"
      ]
     },
     "execution_count": 12,
     "metadata": {},
     "output_type": "execute_result"
    },
    {
     "data": {
      "image/png": "[encoded data removed]",
      "text/plain": [
       "<Figure size 432x288 with 1 Axes>"
      ]
     },
     "metadata": {
      "needs_background": "light"
     },
     "output_type": "display_data"
    }
   ],
   "source": [
    "file.groupby('holiday')['casual'].mean().plot(kind='bar')\n",
    "file.groupby('holiday')['casual'].mean()"
   ]
  },
  {
   "cell_type": "markdown",
   "metadata": {},
   "source": [
    "Combining the graphs of casual and registered into one of may make it seem like that holiday and have no dependence on count but we can clearly see that holiday increases the casual amount by upto 40% and a same kind of variation is observec in weather so it is reasonable to take two models one for casual and another for registered.The same is obtained from data of working day also."
   ]
  },
  {
   "cell_type": "markdown",
   "metadata": {},
   "source": [
    "## 3. Working day"
   ]
  },
  {
   "cell_type": "code",
   "execution_count": 13,
   "metadata": {},
   "outputs": [
    {
     "data": {
      "text/plain": [
       "workingday\n",
       "0    129.198330\n",
       "1    167.904209\n",
       "Name: registered, dtype: float64"
      ]
     },
     "execution_count": 13,
     "metadata": {},
     "output_type": "execute_result"
    },
    {
     "data": {
      "image/png": "[encoded data removed]",
      "text/plain": [
       "<Figure size 432x288 with 1 Axes>"
      ]
     },
     "metadata": {
      "needs_background": "light"
     },
     "output_type": "display_data"
    }
   ],
   "source": [
    "file.groupby('workingday')['registered'].mean().plot(kind='bar')\n",
    "file.groupby('workingday')['registered'].mean()"
   ]
  },
  {
   "cell_type": "code",
   "execution_count": 14,
   "metadata": {},
   "outputs": [
    {
     "data": {
      "text/plain": [
       "workingday\n",
       "0    59.308290\n",
       "1    25.107663\n",
       "Name: casual, dtype: float64"
      ]
     },
     "execution_count": 14,
     "metadata": {},
     "output_type": "execute_result"
    },
    {
     "data": {
      "image/png": "[encoded data removed]",
      "text/plain": [
       "<Figure size 432x288 with 1 Axes>"
      ]
     },
     "metadata": {
      "needs_background": "light"
     },
     "output_type": "display_data"
    }
   ],
   "source": [
    "file.groupby('workingday')['casual'].mean().plot(kind='bar')\n",
    "file.groupby('workingday')['casual'].mean()"
   ]
  },
  {
   "cell_type": "markdown",
   "metadata": {},
   "source": [
    "## 4. Weather"
   ]
  },
  {
   "cell_type": "code",
   "execution_count": 15,
   "metadata": {},
   "outputs": [
    {
     "data": {
      "text/plain": [
       "weather\n",
       "1    164.928115\n",
       "2    148.170078\n",
       "3    101.403958\n",
       "4    158.000000\n",
       "Name: registered, dtype: float64"
      ]
     },
     "execution_count": 15,
     "metadata": {},
     "output_type": "execute_result"
    },
    {
     "data": {
      "image/png": "[encoded data removed]",
      "text/plain": [
       "<Figure size 432x288 with 1 Axes>"
      ]
     },
     "metadata": {
      "needs_background": "light"
     },
     "output_type": "display_data"
    }
   ],
   "source": [
    "file.groupby('weather')['registered'].mean().plot(kind='bar')\n",
    "file.groupby('weather')['registered'].mean()"
   ]
  },
  {
   "cell_type": "code",
   "execution_count": 16,
   "metadata": {},
   "outputs": [
    {
     "data": {
      "text/plain": [
       "weather\n",
       "1    40.308676\n",
       "2    30.785462\n",
       "3    17.442375\n",
       "4     6.000000\n",
       "Name: casual, dtype: float64"
      ]
     },
     "execution_count": 16,
     "metadata": {},
     "output_type": "execute_result"
    },
    {
     "data": {
      "image/png": "[encoded data removed]",
      "text/plain": [
       "<Figure size 432x288 with 1 Axes>"
      ]
     },
     "metadata": {
      "needs_background": "light"
     },
     "output_type": "display_data"
    }
   ],
   "source": [
    "file.groupby('weather')['casual'].mean().plot(kind='bar')\n",
    "file.groupby('weather')['casual'].mean()"
   ]
  },
  {
   "cell_type": "markdown",
   "metadata": {},
   "source": [
    "## 5. Date and Time"
   ]
  },
  {
   "cell_type": "markdown",
   "metadata": {},
   "source": [
    "First we have to separate the individual date and time for each data point into hour,day,month and year."
   ]
  },
  {
   "cell_type": "code",
   "execution_count": 17,
   "metadata": {},
   "outputs": [],
   "source": [
    "feed = file\n",
    "feed['hr'] = pd.DatetimeIndex(feed['datetime']).hour\n",
    "feed['dy'] = pd.DatetimeIndex(feed['datetime']).day\n",
    "feed['mth'] = pd.DatetimeIndex(feed['datetime']).month\n",
    "feed['yr'] = pd.DatetimeIndex(feed['datetime']).year"
   ]
  },
  {
   "cell_type": "markdown",
   "metadata": {},
   "source": [
    "### 5.a. Hour"
   ]
  },
  {
   "cell_type": "code",
   "execution_count": 18,
   "metadata": {},
   "outputs": [
    {
     "data": {
      "text/plain": [
       "hr\n",
       "0      44.826374\n",
       "1      27.345815\n",
       "2      18.080357\n",
       "3       9.076212\n",
       "4       5.144796\n",
       "5      18.311947\n",
       "6      72.109890\n",
       "7     202.202198\n",
       "8     341.226374\n",
       "9     190.824176\n",
       "10    128.973626\n",
       "11    150.621978\n",
       "12    187.677632\n",
       "13    183.728070\n",
       "14    166.853070\n",
       "15    178.269737\n",
       "16    241.289474\n",
       "17    393.324561\n",
       "18    369.462719\n",
       "19    266.203947\n",
       "20    191.785088\n",
       "21    144.802632\n",
       "22    110.973684\n",
       "23     74.046053\n",
       "Name: registered, dtype: float64"
      ]
     },
     "execution_count": 18,
     "metadata": {},
     "output_type": "execute_result"
    },
    {
     "data": {
      "image/png": "[encoded data removed]",
      "text/plain": [
       "<Figure size 432x288 with 1 Axes>"
      ]
     },
     "metadata": {
      "needs_background": "light"
     },
     "output_type": "display_data"
    }
   ],
   "source": [
    "feed.groupby('hr')['registered'].mean().plot(kind='bar')\n",
    "feed.groupby('hr')['registered'].mean()"
   ]
  },
  {
   "cell_type": "code",
   "execution_count": 19,
   "metadata": {},
   "outputs": [
    {
     "data": {
      "text/plain": [
       "hr\n",
       "0     10.312088\n",
       "1      6.513216\n",
       "2      4.819196\n",
       "3      2.681293\n",
       "4      1.262443\n",
       "5      1.455752\n",
       "6      4.149451\n",
       "7     10.914286\n",
       "8     21.542857\n",
       "9     30.956044\n",
       "10    46.118681\n",
       "11    60.052747\n",
       "12    68.831140\n",
       "13    74.059211\n",
       "14    76.589912\n",
       "15    76.028509\n",
       "16    75.083333\n",
       "17    75.440789\n",
       "18    61.396930\n",
       "19    49.074561\n",
       "20    36.732456\n",
       "21    28.567982\n",
       "22    22.603070\n",
       "23    15.462719\n",
       "Name: casual, dtype: float64"
      ]
     },
     "execution_count": 19,
     "metadata": {},
     "output_type": "execute_result"
    },
    {
     "data": {
      "image/png": "[encoded data removed]",
      "text/plain": [
       "<Figure size 432x288 with 1 Axes>"
      ]
     },
     "metadata": {
      "needs_background": "light"
     },
     "output_type": "display_data"
    }
   ],
   "source": [
    "feed.groupby('hr')['casual'].mean().plot(kind='bar')\n",
    "feed.groupby('hr')['casual'].mean()"
   ]
  },
  {
   "cell_type": "markdown",
   "metadata": {},
   "source": [
    "### 5.b. Day"
   ]
  },
  {
   "cell_type": "code",
   "execution_count": 20,
   "metadata": {},
   "outputs": [
    {
     "data": {
      "text/plain": [
       "dy\n",
       "1     148.720000\n",
       "2     149.488656\n",
       "3     156.106457\n",
       "4     153.811847\n",
       "5     154.961739\n",
       "6     155.748252\n",
       "7     150.278746\n",
       "8     145.611498\n",
       "9     152.866087\n",
       "10    158.143357\n",
       "11    159.265845\n",
       "12    157.225131\n",
       "13    159.341463\n",
       "14    160.149826\n",
       "15    160.965157\n",
       "16    155.277003\n",
       "17    164.686957\n",
       "18    155.214920\n",
       "19    157.665505\n",
       "Name: registered, dtype: float64"
      ]
     },
     "execution_count": 20,
     "metadata": {},
     "output_type": "execute_result"
    },
    {
     "data": {
      "image/png": "[encoded data removed]",
      "text/plain": [
       "<Figure size 432x288 with 1 Axes>"
      ]
     },
     "metadata": {
      "needs_background": "light"
     },
     "output_type": "display_data"
    }
   ],
   "source": [
    "feed.groupby('dy')['registered'].mean().plot(kind='bar')\n",
    "feed.groupby('dy')['registered'].mean()"
   ]
  },
  {
   "cell_type": "code",
   "execution_count": 21,
   "metadata": {},
   "outputs": [
    {
     "data": {
      "text/plain": [
       "dy\n",
       "1     31.613913\n",
       "2     34.422339\n",
       "3     38.589878\n",
       "4     41.893728\n",
       "5     34.803478\n",
       "6     34.111888\n",
       "7     33.494774\n",
       "8     33.430314\n",
       "9     35.031304\n",
       "10    37.040210\n",
       "11    36.413732\n",
       "12    33.450262\n",
       "13    34.818815\n",
       "14    35.679443\n",
       "15    40.562718\n",
       "16    36.076655\n",
       "17    40.973913\n",
       "18    37.390764\n",
       "19    34.646341\n",
       "Name: casual, dtype: float64"
      ]
     },
     "execution_count": 21,
     "metadata": {},
     "output_type": "execute_result"
    },
    {
     "data": {
      "image/png": "[encoded data removed]",
      "text/plain": [
       "<Figure size 432x288 with 1 Axes>"
      ]
     },
     "metadata": {
      "needs_background": "light"
     },
     "output_type": "display_data"
    }
   ],
   "source": [
    "feed.groupby('dy')['casual'].mean().plot(kind='bar')\n",
    "feed.groupby('dy')['casual'].mean()"
   ]
  },
  {
   "cell_type": "markdown",
   "metadata": {},
   "source": [
    "### 5.c. Month"
   ]
  },
  {
   "cell_type": "code",
   "execution_count": 22,
   "metadata": {},
   "outputs": [
    {
     "data": {
      "text/plain": [
       "mth\n",
       "1      82.162896\n",
       "2      99.684795\n",
       "3     120.360710\n",
       "4     140.361936\n",
       "5     174.190789\n",
       "6     188.770833\n",
       "7     179.462719\n",
       "8     183.822368\n",
       "9     183.309131\n",
       "10    185.891328\n",
       "11    165.847420\n",
       "12    159.495614\n",
       "Name: registered, dtype: float64"
      ]
     },
     "execution_count": 22,
     "metadata": {},
     "output_type": "execute_result"
    },
    {
     "data": {
      "image/png": "[encoded data removed]",
      "text/plain": [
       "<Figure size 432x288 with 1 Axes>"
      ]
     },
     "metadata": {
      "needs_background": "light"
     },
     "output_type": "display_data"
    }
   ],
   "source": [
    "feed.groupby('mth')['registered'].mean().plot(kind='bar')\n",
    "feed.groupby('mth')['registered'].mean()"
   ]
  },
  {
   "cell_type": "code",
   "execution_count": 23,
   "metadata": {},
   "outputs": [
    {
     "data": {
      "text/plain": [
       "mth\n",
       "1      8.203620\n",
       "2     10.318535\n",
       "3     27.809101\n",
       "4     43.798680\n",
       "5     45.268640\n",
       "6     53.260965\n",
       "7     55.862939\n",
       "8     50.296053\n",
       "9     50.496150\n",
       "10    41.807903\n",
       "11    27.829857\n",
       "12    16.118421\n",
       "Name: casual, dtype: float64"
      ]
     },
     "execution_count": 23,
     "metadata": {},
     "output_type": "execute_result"
    },
    {
     "data": {
      "image/png": "[encoded data removed]",
      "text/plain": [
       "<Figure size 432x288 with 1 Axes>"
      ]
     },
     "metadata": {
      "needs_background": "light"
     },
     "output_type": "display_data"
    }
   ],
   "source": [
    "feed.groupby('mth')['casual'].mean().plot(kind='bar')\n",
    "feed.groupby('mth')['casual'].mean()"
   ]
  },
  {
   "cell_type": "markdown",
   "metadata": {},
   "source": [
    "### 5.d. Year "
   ]
  },
  {
   "cell_type": "code",
   "execution_count": 24,
   "metadata": {},
   "outputs": [
    {
     "data": {
      "text/plain": [
       "yr\n",
       "2011    115.485430\n",
       "2012    195.310944\n",
       "Name: registered, dtype: float64"
      ]
     },
     "execution_count": 24,
     "metadata": {},
     "output_type": "execute_result"
    },
    {
     "data": {
      "image/png": "[encoded data removed]",
      "text/plain": [
       "<Figure size 432x288 with 1 Axes>"
      ]
     },
     "metadata": {
      "needs_background": "light"
     },
     "output_type": "display_data"
    }
   ],
   "source": [
    "feed.groupby('yr')['registered'].mean().plot(kind='bar')\n",
    "feed.groupby('yr')['registered'].mean()"
   ]
  },
  {
   "cell_type": "code",
   "execution_count": 25,
   "metadata": {},
   "outputs": [
    {
     "data": {
      "text/plain": [
       "yr\n",
       "2011    28.73792\n",
       "2012    43.25000\n",
       "Name: casual, dtype: float64"
      ]
     },
     "execution_count": 25,
     "metadata": {},
     "output_type": "execute_result"
    },
    {
     "data": {
      "image/png": "[encoded data removed]",
      "text/plain": [
       "<Figure size 432x288 with 1 Axes>"
      ]
     },
     "metadata": {
      "needs_background": "light"
     },
     "output_type": "display_data"
    }
   ],
   "source": [
    "feed.groupby('yr')['casual'].mean().plot(kind='bar')\n",
    "feed.groupby('yr')['casual'].mean()"
   ]
  },
  {
   "cell_type": "markdown",
   "metadata": {},
   "source": [
    "From the above graphs we can conclude that te feature cay has hardly any influence over the features registered and count."
   ]
  },
  {
   "cell_type": "code",
   "execution_count": 26,
   "metadata": {},
   "outputs": [
    {
     "data": {
      "text/plain": [
       "<bound method NDFrame.describe of                   datetime  season  holiday  workingday  weather   temp  \\\n",
       "0      2011-01-01 00:00:00       1        0           0        1   9.84   \n",
       "1      2011-01-01 01:00:00       1        0           0        1   9.02   \n",
       "2      2011-01-01 02:00:00       1        0           0        1   9.02   \n",
       "3      2011-01-01 03:00:00       1        0           0        1   9.84   \n",
       "4      2011-01-01 04:00:00       1        0           0        1   9.84   \n",
       "...                    ...     ...      ...         ...      ...    ...   \n",
       "10881  2012-12-19 19:00:00       4        0           1        1  15.58   \n",
       "10882  2012-12-19 20:00:00       4        0           1        1  14.76   \n",
       "10883  2012-12-19 21:00:00       4        0           1        1  13.94   \n",
       "10884  2012-12-19 22:00:00       4        0           1        1  13.94   \n",
       "10885  2012-12-19 23:00:00       4        0           1        1  13.12   \n",
       "\n",
       "        atemp  humidity  windspeed  casual  registered  count  hr  dy  mth  \\\n",
       "0      14.395        81     0.0000       3          13     16   0   1    1   \n",
       "1      13.635        80     0.0000       8          32     40   1   1    1   \n",
       "2      13.635        80     0.0000       5          27     32   2   1    1   \n",
       "3      14.395        75     0.0000       3          10     13   3   1    1   \n",
       "4      14.395        75     0.0000       0           1      1   4   1    1   \n",
       "...       ...       ...        ...     ...         ...    ...  ..  ..  ...   \n",
       "10881  19.695        50    26.0027       7         329    336  19  19   12   \n",
       "10882  17.425        57    15.0013      10         231    241  20  19   12   \n",
       "10883  15.910        61    15.0013       4         164    168  21  19   12   \n",
       "10884  17.425        61     6.0032      12         117    129  22  19   12   \n",
       "10885  16.665        66     8.9981       4          84     88  23  19   12   \n",
       "\n",
       "         yr  \n",
       "0      2011  \n",
       "1      2011  \n",
       "2      2011  \n",
       "3      2011  \n",
       "4      2011  \n",
       "...     ...  \n",
       "10881  2012  \n",
       "10882  2012  \n",
       "10883  2012  \n",
       "10884  2012  \n",
       "10885  2012  \n",
       "\n",
       "[10886 rows x 16 columns]>"
      ]
     },
     "execution_count": 26,
     "metadata": {},
     "output_type": "execute_result"
    }
   ],
   "source": [
    "feed.describe"
   ]
  },
  {
   "cell_type": "code",
   "execution_count": 27,
   "metadata": {},
   "outputs": [
    {
     "data": {
      "text/plain": [
       "Index(['datetime', 'season', 'holiday', 'workingday', 'weather', 'temp',\n",
       "       'atemp', 'humidity', 'windspeed', 'casual', 'registered', 'count', 'hr',\n",
       "       'dy', 'mth', 'yr'],\n",
       "      dtype='object')"
      ]
     },
     "execution_count": 27,
     "metadata": {},
     "output_type": "execute_result"
    }
   ],
   "source": [
    "feed.columns"
   ]
  },
  {
   "cell_type": "markdown",
   "metadata": {},
   "source": [
    "# Adding relevant columns for each of the categorical data columns and removing unnecesary ones"
   ]
  },
  {
   "cell_type": "markdown",
   "metadata": {},
   "source": [
    "## 1. Season"
   ]
  },
  {
   "cell_type": "code",
   "execution_count": 28,
   "metadata": {},
   "outputs": [
    {
     "data": {
      "text/html": [
       "<div>\n",
       "<style scoped>\n",
       "    .dataframe tbody tr th:only-of-type {\n",
       "        vertical-align: middle;\n",
       "    }\n",
       "\n",
       "    .dataframe tbody tr th {\n",
       "        vertical-align: top;\n",
       "    }\n",
       "\n",
       "    .dataframe thead th {\n",
       "        text-align: right;\n",
       "    }\n",
       "</style>\n",
       "<table border=\"1\" class=\"dataframe\">\n",
       "  <thead>\n",
       "    <tr style=\"text-align: right;\">\n",
       "      <th></th>\n",
       "      <th>datetime</th>\n",
       "      <th>season</th>\n",
       "      <th>holiday</th>\n",
       "      <th>workingday</th>\n",
       "      <th>weather</th>\n",
       "      <th>temp</th>\n",
       "      <th>atemp</th>\n",
       "      <th>humidity</th>\n",
       "      <th>windspeed</th>\n",
       "      <th>casual</th>\n",
       "      <th>registered</th>\n",
       "      <th>count</th>\n",
       "      <th>hr</th>\n",
       "      <th>dy</th>\n",
       "      <th>mth</th>\n",
       "      <th>yr</th>\n",
       "      <th>s1</th>\n",
       "      <th>s2</th>\n",
       "      <th>s3</th>\n",
       "      <th>s4</th>\n",
       "    </tr>\n",
       "  </thead>\n",
       "  <tbody>\n",
       "    <tr>\n",
       "      <th>1981</th>\n",
       "      <td>2011-05-09 11:00:00</td>\n",
       "      <td>2</td>\n",
       "      <td>0</td>\n",
       "      <td>1</td>\n",
       "      <td>1</td>\n",
       "      <td>24.60</td>\n",
       "      <td>31.060</td>\n",
       "      <td>46</td>\n",
       "      <td>15.0013</td>\n",
       "      <td>26</td>\n",
       "      <td>99</td>\n",
       "      <td>125</td>\n",
       "      <td>11</td>\n",
       "      <td>9</td>\n",
       "      <td>5</td>\n",
       "      <td>2011</td>\n",
       "      <td>0</td>\n",
       "      <td>1</td>\n",
       "      <td>0</td>\n",
       "      <td>0</td>\n",
       "    </tr>\n",
       "    <tr>\n",
       "      <th>10720</th>\n",
       "      <td>2012-12-13 02:00:00</td>\n",
       "      <td>4</td>\n",
       "      <td>0</td>\n",
       "      <td>1</td>\n",
       "      <td>2</td>\n",
       "      <td>10.66</td>\n",
       "      <td>12.120</td>\n",
       "      <td>56</td>\n",
       "      <td>16.9979</td>\n",
       "      <td>3</td>\n",
       "      <td>5</td>\n",
       "      <td>8</td>\n",
       "      <td>2</td>\n",
       "      <td>13</td>\n",
       "      <td>12</td>\n",
       "      <td>2012</td>\n",
       "      <td>0</td>\n",
       "      <td>0</td>\n",
       "      <td>0</td>\n",
       "      <td>1</td>\n",
       "    </tr>\n",
       "    <tr>\n",
       "      <th>1309</th>\n",
       "      <td>2011-03-19 10:00:00</td>\n",
       "      <td>1</td>\n",
       "      <td>0</td>\n",
       "      <td>0</td>\n",
       "      <td>1</td>\n",
       "      <td>18.04</td>\n",
       "      <td>21.970</td>\n",
       "      <td>38</td>\n",
       "      <td>27.9993</td>\n",
       "      <td>55</td>\n",
       "      <td>85</td>\n",
       "      <td>140</td>\n",
       "      <td>10</td>\n",
       "      <td>19</td>\n",
       "      <td>3</td>\n",
       "      <td>2011</td>\n",
       "      <td>1</td>\n",
       "      <td>0</td>\n",
       "      <td>0</td>\n",
       "      <td>0</td>\n",
       "    </tr>\n",
       "    <tr>\n",
       "      <th>1148</th>\n",
       "      <td>2011-03-12 12:00:00</td>\n",
       "      <td>1</td>\n",
       "      <td>0</td>\n",
       "      <td>0</td>\n",
       "      <td>1</td>\n",
       "      <td>13.94</td>\n",
       "      <td>15.910</td>\n",
       "      <td>53</td>\n",
       "      <td>19.0012</td>\n",
       "      <td>51</td>\n",
       "      <td>107</td>\n",
       "      <td>158</td>\n",
       "      <td>12</td>\n",
       "      <td>12</td>\n",
       "      <td>3</td>\n",
       "      <td>2011</td>\n",
       "      <td>1</td>\n",
       "      <td>0</td>\n",
       "      <td>0</td>\n",
       "      <td>0</td>\n",
       "    </tr>\n",
       "    <tr>\n",
       "      <th>2569</th>\n",
       "      <td>2011-06-14 23:00:00</td>\n",
       "      <td>2</td>\n",
       "      <td>0</td>\n",
       "      <td>1</td>\n",
       "      <td>1</td>\n",
       "      <td>22.96</td>\n",
       "      <td>26.515</td>\n",
       "      <td>68</td>\n",
       "      <td>15.0013</td>\n",
       "      <td>19</td>\n",
       "      <td>91</td>\n",
       "      <td>110</td>\n",
       "      <td>23</td>\n",
       "      <td>14</td>\n",
       "      <td>6</td>\n",
       "      <td>2011</td>\n",
       "      <td>0</td>\n",
       "      <td>1</td>\n",
       "      <td>0</td>\n",
       "      <td>0</td>\n",
       "    </tr>\n",
       "  </tbody>\n",
       "</table>\n",
       "</div>"
      ],
      "text/plain": [
       "                  datetime  season  holiday  workingday  weather   temp  \\\n",
       "1981   2011-05-09 11:00:00       2        0           1        1  24.60   \n",
       "10720  2012-12-13 02:00:00       4        0           1        2  10.66   \n",
       "1309   2011-03-19 10:00:00       1        0           0        1  18.04   \n",
       "1148   2011-03-12 12:00:00       1        0           0        1  13.94   \n",
       "2569   2011-06-14 23:00:00       2        0           1        1  22.96   \n",
       "\n",
       "        atemp  humidity  windspeed  casual  registered  count  hr  dy  mth  \\\n",
       "1981   31.060        46    15.0013      26          99    125  11   9    5   \n",
       "10720  12.120        56    16.9979       3           5      8   2  13   12   \n",
       "1309   21.970        38    27.9993      55          85    140  10  19    3   \n",
       "1148   15.910        53    19.0012      51         107    158  12  12    3   \n",
       "2569   26.515        68    15.0013      19          91    110  23  14    6   \n",
       "\n",
       "         yr  s1  s2  s3  s4  \n",
       "1981   2011   0   1   0   0  \n",
       "10720  2012   0   0   0   1  \n",
       "1309   2011   1   0   0   0  \n",
       "1148   2011   1   0   0   0  \n",
       "2569   2011   0   1   0   0  "
      ]
     },
     "execution_count": 28,
     "metadata": {},
     "output_type": "execute_result"
    }
   ],
   "source": [
    "for i in feed.groupby('season').count().index:\n",
    "    s = 's'+str(i)\n",
    "    a=[]\n",
    "    for j in feed.season:\n",
    "        if j==i:\n",
    "            a.append(1)\n",
    "        else:\n",
    "            a.append(0)\n",
    "    feed[s]=a\n",
    "feed.sample(5)"
   ]
  },
  {
   "cell_type": "markdown",
   "metadata": {},
   "source": [
    "## 2. Weather "
   ]
  },
  {
   "cell_type": "code",
   "execution_count": 29,
   "metadata": {},
   "outputs": [
    {
     "data": {
      "text/html": [
       "<div>\n",
       "<style scoped>\n",
       "    .dataframe tbody tr th:only-of-type {\n",
       "        vertical-align: middle;\n",
       "    }\n",
       "\n",
       "    .dataframe tbody tr th {\n",
       "        vertical-align: top;\n",
       "    }\n",
       "\n",
       "    .dataframe thead th {\n",
       "        text-align: right;\n",
       "    }\n",
       "</style>\n",
       "<table border=\"1\" class=\"dataframe\">\n",
       "  <thead>\n",
       "    <tr style=\"text-align: right;\">\n",
       "      <th></th>\n",
       "      <th>datetime</th>\n",
       "      <th>season</th>\n",
       "      <th>holiday</th>\n",
       "      <th>workingday</th>\n",
       "      <th>weather</th>\n",
       "      <th>temp</th>\n",
       "      <th>atemp</th>\n",
       "      <th>humidity</th>\n",
       "      <th>windspeed</th>\n",
       "      <th>casual</th>\n",
       "      <th>...</th>\n",
       "      <th>mth</th>\n",
       "      <th>yr</th>\n",
       "      <th>s1</th>\n",
       "      <th>s2</th>\n",
       "      <th>s3</th>\n",
       "      <th>s4</th>\n",
       "      <th>w1</th>\n",
       "      <th>w2</th>\n",
       "      <th>w3</th>\n",
       "      <th>w4</th>\n",
       "    </tr>\n",
       "  </thead>\n",
       "  <tbody>\n",
       "    <tr>\n",
       "      <th>4499</th>\n",
       "      <td>2011-10-19 13:00:00</td>\n",
       "      <td>4</td>\n",
       "      <td>0</td>\n",
       "      <td>1</td>\n",
       "      <td>2</td>\n",
       "      <td>22.14</td>\n",
       "      <td>25.760</td>\n",
       "      <td>94</td>\n",
       "      <td>19.0012</td>\n",
       "      <td>20</td>\n",
       "      <td>...</td>\n",
       "      <td>10</td>\n",
       "      <td>2011</td>\n",
       "      <td>0</td>\n",
       "      <td>0</td>\n",
       "      <td>0</td>\n",
       "      <td>1</td>\n",
       "      <td>0</td>\n",
       "      <td>1</td>\n",
       "      <td>0</td>\n",
       "      <td>0</td>\n",
       "    </tr>\n",
       "    <tr>\n",
       "      <th>1539</th>\n",
       "      <td>2011-04-10 00:00:00</td>\n",
       "      <td>2</td>\n",
       "      <td>0</td>\n",
       "      <td>0</td>\n",
       "      <td>2</td>\n",
       "      <td>15.58</td>\n",
       "      <td>19.695</td>\n",
       "      <td>87</td>\n",
       "      <td>6.0032</td>\n",
       "      <td>5</td>\n",
       "      <td>...</td>\n",
       "      <td>4</td>\n",
       "      <td>2011</td>\n",
       "      <td>0</td>\n",
       "      <td>1</td>\n",
       "      <td>0</td>\n",
       "      <td>0</td>\n",
       "      <td>0</td>\n",
       "      <td>1</td>\n",
       "      <td>0</td>\n",
       "      <td>0</td>\n",
       "    </tr>\n",
       "    <tr>\n",
       "      <th>8855</th>\n",
       "      <td>2012-08-11 08:00:00</td>\n",
       "      <td>3</td>\n",
       "      <td>0</td>\n",
       "      <td>0</td>\n",
       "      <td>1</td>\n",
       "      <td>27.06</td>\n",
       "      <td>30.305</td>\n",
       "      <td>83</td>\n",
       "      <td>7.0015</td>\n",
       "      <td>30</td>\n",
       "      <td>...</td>\n",
       "      <td>8</td>\n",
       "      <td>2012</td>\n",
       "      <td>0</td>\n",
       "      <td>0</td>\n",
       "      <td>1</td>\n",
       "      <td>0</td>\n",
       "      <td>1</td>\n",
       "      <td>0</td>\n",
       "      <td>0</td>\n",
       "      <td>0</td>\n",
       "    </tr>\n",
       "    <tr>\n",
       "      <th>1994</th>\n",
       "      <td>2011-05-10 00:00:00</td>\n",
       "      <td>2</td>\n",
       "      <td>0</td>\n",
       "      <td>1</td>\n",
       "      <td>1</td>\n",
       "      <td>19.68</td>\n",
       "      <td>23.485</td>\n",
       "      <td>63</td>\n",
       "      <td>0.0000</td>\n",
       "      <td>6</td>\n",
       "      <td>...</td>\n",
       "      <td>5</td>\n",
       "      <td>2011</td>\n",
       "      <td>0</td>\n",
       "      <td>1</td>\n",
       "      <td>0</td>\n",
       "      <td>0</td>\n",
       "      <td>1</td>\n",
       "      <td>0</td>\n",
       "      <td>0</td>\n",
       "      <td>0</td>\n",
       "    </tr>\n",
       "    <tr>\n",
       "      <th>5999</th>\n",
       "      <td>2012-02-06 05:00:00</td>\n",
       "      <td>1</td>\n",
       "      <td>0</td>\n",
       "      <td>1</td>\n",
       "      <td>1</td>\n",
       "      <td>7.38</td>\n",
       "      <td>10.605</td>\n",
       "      <td>80</td>\n",
       "      <td>7.0015</td>\n",
       "      <td>0</td>\n",
       "      <td>...</td>\n",
       "      <td>2</td>\n",
       "      <td>2012</td>\n",
       "      <td>1</td>\n",
       "      <td>0</td>\n",
       "      <td>0</td>\n",
       "      <td>0</td>\n",
       "      <td>1</td>\n",
       "      <td>0</td>\n",
       "      <td>0</td>\n",
       "      <td>0</td>\n",
       "    </tr>\n",
       "  </tbody>\n",
       "</table>\n",
       "<p>5 rows × 24 columns</p>\n",
       "</div>"
      ],
      "text/plain": [
       "                 datetime  season  holiday  workingday  weather   temp  \\\n",
       "4499  2011-10-19 13:00:00       4        0           1        2  22.14   \n",
       "1539  2011-04-10 00:00:00       2        0           0        2  15.58   \n",
       "8855  2012-08-11 08:00:00       3        0           0        1  27.06   \n",
       "1994  2011-05-10 00:00:00       2        0           1        1  19.68   \n",
       "5999  2012-02-06 05:00:00       1        0           1        1   7.38   \n",
       "\n",
       "       atemp  humidity  windspeed  casual  ...  mth    yr  s1  s2  s3  s4  w1  \\\n",
       "4499  25.760        94    19.0012      20  ...   10  2011   0   0   0   1   0   \n",
       "1539  19.695        87     6.0032       5  ...    4  2011   0   1   0   0   0   \n",
       "8855  30.305        83     7.0015      30  ...    8  2012   0   0   1   0   1   \n",
       "1994  23.485        63     0.0000       6  ...    5  2011   0   1   0   0   1   \n",
       "5999  10.605        80     7.0015       0  ...    2  2012   1   0   0   0   1   \n",
       "\n",
       "      w2  w3  w4  \n",
       "4499   1   0   0  \n",
       "1539   1   0   0  \n",
       "8855   0   0   0  \n",
       "1994   0   0   0  \n",
       "5999   0   0   0  \n",
       "\n",
       "[5 rows x 24 columns]"
      ]
     },
     "execution_count": 29,
     "metadata": {},
     "output_type": "execute_result"
    }
   ],
   "source": [
    "for i in feed.groupby('weather').count().index:\n",
    "    s = 'w'+str(i)\n",
    "    a=[]\n",
    "    for j in feed.weather:\n",
    "        if j==i:\n",
    "            a.append(1)\n",
    "        else:\n",
    "            a.append(0)\n",
    "    feed[s]=a\n",
    "feed.sample(5)"
   ]
  },
  {
   "cell_type": "markdown",
   "metadata": {},
   "source": [
    "## 3. Hour"
   ]
  },
  {
   "cell_type": "code",
   "execution_count": 30,
   "metadata": {},
   "outputs": [
    {
     "data": {
      "text/html": [
       "<div>\n",
       "<style scoped>\n",
       "    .dataframe tbody tr th:only-of-type {\n",
       "        vertical-align: middle;\n",
       "    }\n",
       "\n",
       "    .dataframe tbody tr th {\n",
       "        vertical-align: top;\n",
       "    }\n",
       "\n",
       "    .dataframe thead th {\n",
       "        text-align: right;\n",
       "    }\n",
       "</style>\n",
       "<table border=\"1\" class=\"dataframe\">\n",
       "  <thead>\n",
       "    <tr style=\"text-align: right;\">\n",
       "      <th></th>\n",
       "      <th>datetime</th>\n",
       "      <th>season</th>\n",
       "      <th>holiday</th>\n",
       "      <th>workingday</th>\n",
       "      <th>weather</th>\n",
       "      <th>temp</th>\n",
       "      <th>atemp</th>\n",
       "      <th>humidity</th>\n",
       "      <th>windspeed</th>\n",
       "      <th>casual</th>\n",
       "      <th>...</th>\n",
       "      <th>hr14</th>\n",
       "      <th>hr15</th>\n",
       "      <th>hr16</th>\n",
       "      <th>hr17</th>\n",
       "      <th>hr18</th>\n",
       "      <th>hr19</th>\n",
       "      <th>hr20</th>\n",
       "      <th>hr21</th>\n",
       "      <th>hr22</th>\n",
       "      <th>hr23</th>\n",
       "    </tr>\n",
       "  </thead>\n",
       "  <tbody>\n",
       "    <tr>\n",
       "      <th>5279</th>\n",
       "      <td>2011-12-14 01:00:00</td>\n",
       "      <td>4</td>\n",
       "      <td>0</td>\n",
       "      <td>1</td>\n",
       "      <td>1</td>\n",
       "      <td>10.66</td>\n",
       "      <td>15.15</td>\n",
       "      <td>75</td>\n",
       "      <td>0.0000</td>\n",
       "      <td>0</td>\n",
       "      <td>...</td>\n",
       "      <td>0</td>\n",
       "      <td>0</td>\n",
       "      <td>0</td>\n",
       "      <td>0</td>\n",
       "      <td>0</td>\n",
       "      <td>0</td>\n",
       "      <td>0</td>\n",
       "      <td>0</td>\n",
       "      <td>0</td>\n",
       "      <td>0</td>\n",
       "    </tr>\n",
       "    <tr>\n",
       "      <th>4837</th>\n",
       "      <td>2011-11-14 15:00:00</td>\n",
       "      <td>4</td>\n",
       "      <td>0</td>\n",
       "      <td>1</td>\n",
       "      <td>1</td>\n",
       "      <td>26.24</td>\n",
       "      <td>31.06</td>\n",
       "      <td>44</td>\n",
       "      <td>22.0028</td>\n",
       "      <td>53</td>\n",
       "      <td>...</td>\n",
       "      <td>0</td>\n",
       "      <td>1</td>\n",
       "      <td>0</td>\n",
       "      <td>0</td>\n",
       "      <td>0</td>\n",
       "      <td>0</td>\n",
       "      <td>0</td>\n",
       "      <td>0</td>\n",
       "      <td>0</td>\n",
       "      <td>0</td>\n",
       "    </tr>\n",
       "    <tr>\n",
       "      <th>6809</th>\n",
       "      <td>2012-04-02 00:00:00</td>\n",
       "      <td>2</td>\n",
       "      <td>0</td>\n",
       "      <td>1</td>\n",
       "      <td>3</td>\n",
       "      <td>18.04</td>\n",
       "      <td>21.97</td>\n",
       "      <td>82</td>\n",
       "      <td>7.0015</td>\n",
       "      <td>6</td>\n",
       "      <td>...</td>\n",
       "      <td>0</td>\n",
       "      <td>0</td>\n",
       "      <td>0</td>\n",
       "      <td>0</td>\n",
       "      <td>0</td>\n",
       "      <td>0</td>\n",
       "      <td>0</td>\n",
       "      <td>0</td>\n",
       "      <td>0</td>\n",
       "      <td>0</td>\n",
       "    </tr>\n",
       "    <tr>\n",
       "      <th>6016</th>\n",
       "      <td>2012-02-06 22:00:00</td>\n",
       "      <td>1</td>\n",
       "      <td>0</td>\n",
       "      <td>1</td>\n",
       "      <td>1</td>\n",
       "      <td>12.30</td>\n",
       "      <td>15.15</td>\n",
       "      <td>65</td>\n",
       "      <td>8.9981</td>\n",
       "      <td>4</td>\n",
       "      <td>...</td>\n",
       "      <td>0</td>\n",
       "      <td>0</td>\n",
       "      <td>0</td>\n",
       "      <td>0</td>\n",
       "      <td>0</td>\n",
       "      <td>0</td>\n",
       "      <td>0</td>\n",
       "      <td>0</td>\n",
       "      <td>1</td>\n",
       "      <td>0</td>\n",
       "    </tr>\n",
       "    <tr>\n",
       "      <th>8673</th>\n",
       "      <td>2012-08-03 18:00:00</td>\n",
       "      <td>3</td>\n",
       "      <td>0</td>\n",
       "      <td>1</td>\n",
       "      <td>2</td>\n",
       "      <td>33.62</td>\n",
       "      <td>40.15</td>\n",
       "      <td>59</td>\n",
       "      <td>16.9979</td>\n",
       "      <td>98</td>\n",
       "      <td>...</td>\n",
       "      <td>0</td>\n",
       "      <td>0</td>\n",
       "      <td>0</td>\n",
       "      <td>0</td>\n",
       "      <td>1</td>\n",
       "      <td>0</td>\n",
       "      <td>0</td>\n",
       "      <td>0</td>\n",
       "      <td>0</td>\n",
       "      <td>0</td>\n",
       "    </tr>\n",
       "  </tbody>\n",
       "</table>\n",
       "<p>5 rows × 48 columns</p>\n",
       "</div>"
      ],
      "text/plain": [
       "                 datetime  season  holiday  workingday  weather   temp  atemp  \\\n",
       "5279  2011-12-14 01:00:00       4        0           1        1  10.66  15.15   \n",
       "4837  2011-11-14 15:00:00       4        0           1        1  26.24  31.06   \n",
       "6809  2012-04-02 00:00:00       2        0           1        3  18.04  21.97   \n",
       "6016  2012-02-06 22:00:00       1        0           1        1  12.30  15.15   \n",
       "8673  2012-08-03 18:00:00       3        0           1        2  33.62  40.15   \n",
       "\n",
       "      humidity  windspeed  casual  ...  hr14  hr15  hr16  hr17  hr18  hr19  \\\n",
       "5279        75     0.0000       0  ...     0     0     0     0     0     0   \n",
       "4837        44    22.0028      53  ...     0     1     0     0     0     0   \n",
       "6809        82     7.0015       6  ...     0     0     0     0     0     0   \n",
       "6016        65     8.9981       4  ...     0     0     0     0     0     0   \n",
       "8673        59    16.9979      98  ...     0     0     0     0     1     0   \n",
       "\n",
       "      hr20  hr21  hr22  hr23  \n",
       "5279     0     0     0     0  \n",
       "4837     0     0     0     0  \n",
       "6809     0     0     0     0  \n",
       "6016     0     0     1     0  \n",
       "8673     0     0     0     0  \n",
       "\n",
       "[5 rows x 48 columns]"
      ]
     },
     "execution_count": 30,
     "metadata": {},
     "output_type": "execute_result"
    }
   ],
   "source": [
    "for i in feed.groupby('hr').count().index:\n",
    "    s = 'hr'+str(i)\n",
    "    a=[]\n",
    "    for j in feed.hr:\n",
    "        if j==i:\n",
    "            a.append(1)\n",
    "        else:\n",
    "            a.append(0)\n",
    "    feed[s]=a\n",
    "feed.sample(5)"
   ]
  },
  {
   "cell_type": "markdown",
   "metadata": {},
   "source": [
    "## 4.Month"
   ]
  },
  {
   "cell_type": "code",
   "execution_count": 31,
   "metadata": {},
   "outputs": [
    {
     "data": {
      "text/html": [
       "<div>\n",
       "<style scoped>\n",
       "    .dataframe tbody tr th:only-of-type {\n",
       "        vertical-align: middle;\n",
       "    }\n",
       "\n",
       "    .dataframe tbody tr th {\n",
       "        vertical-align: top;\n",
       "    }\n",
       "\n",
       "    .dataframe thead th {\n",
       "        text-align: right;\n",
       "    }\n",
       "</style>\n",
       "<table border=\"1\" class=\"dataframe\">\n",
       "  <thead>\n",
       "    <tr style=\"text-align: right;\">\n",
       "      <th></th>\n",
       "      <th>datetime</th>\n",
       "      <th>season</th>\n",
       "      <th>holiday</th>\n",
       "      <th>workingday</th>\n",
       "      <th>weather</th>\n",
       "      <th>temp</th>\n",
       "      <th>atemp</th>\n",
       "      <th>humidity</th>\n",
       "      <th>windspeed</th>\n",
       "      <th>casual</th>\n",
       "      <th>...</th>\n",
       "      <th>m3</th>\n",
       "      <th>m4</th>\n",
       "      <th>m5</th>\n",
       "      <th>m6</th>\n",
       "      <th>m7</th>\n",
       "      <th>m8</th>\n",
       "      <th>m9</th>\n",
       "      <th>m10</th>\n",
       "      <th>m11</th>\n",
       "      <th>m12</th>\n",
       "    </tr>\n",
       "  </thead>\n",
       "  <tbody>\n",
       "    <tr>\n",
       "      <th>5827</th>\n",
       "      <td>2012-01-18 00:00:00</td>\n",
       "      <td>1</td>\n",
       "      <td>0</td>\n",
       "      <td>1</td>\n",
       "      <td>2</td>\n",
       "      <td>18.86</td>\n",
       "      <td>22.725</td>\n",
       "      <td>77</td>\n",
       "      <td>22.0028</td>\n",
       "      <td>3</td>\n",
       "      <td>...</td>\n",
       "      <td>0</td>\n",
       "      <td>0</td>\n",
       "      <td>0</td>\n",
       "      <td>0</td>\n",
       "      <td>0</td>\n",
       "      <td>0</td>\n",
       "      <td>0</td>\n",
       "      <td>0</td>\n",
       "      <td>0</td>\n",
       "      <td>0</td>\n",
       "    </tr>\n",
       "    <tr>\n",
       "      <th>5243</th>\n",
       "      <td>2011-12-12 13:00:00</td>\n",
       "      <td>4</td>\n",
       "      <td>0</td>\n",
       "      <td>1</td>\n",
       "      <td>2</td>\n",
       "      <td>12.30</td>\n",
       "      <td>15.910</td>\n",
       "      <td>52</td>\n",
       "      <td>7.0015</td>\n",
       "      <td>13</td>\n",
       "      <td>...</td>\n",
       "      <td>0</td>\n",
       "      <td>0</td>\n",
       "      <td>0</td>\n",
       "      <td>0</td>\n",
       "      <td>0</td>\n",
       "      <td>0</td>\n",
       "      <td>0</td>\n",
       "      <td>0</td>\n",
       "      <td>0</td>\n",
       "      <td>1</td>\n",
       "    </tr>\n",
       "    <tr>\n",
       "      <th>10119</th>\n",
       "      <td>2012-11-07 00:00:00</td>\n",
       "      <td>4</td>\n",
       "      <td>0</td>\n",
       "      <td>1</td>\n",
       "      <td>2</td>\n",
       "      <td>12.30</td>\n",
       "      <td>14.395</td>\n",
       "      <td>56</td>\n",
       "      <td>19.0012</td>\n",
       "      <td>49</td>\n",
       "      <td>...</td>\n",
       "      <td>0</td>\n",
       "      <td>0</td>\n",
       "      <td>0</td>\n",
       "      <td>0</td>\n",
       "      <td>0</td>\n",
       "      <td>0</td>\n",
       "      <td>0</td>\n",
       "      <td>0</td>\n",
       "      <td>1</td>\n",
       "      <td>0</td>\n",
       "    </tr>\n",
       "    <tr>\n",
       "      <th>343</th>\n",
       "      <td>2011-01-15 19:00:00</td>\n",
       "      <td>1</td>\n",
       "      <td>0</td>\n",
       "      <td>0</td>\n",
       "      <td>2</td>\n",
       "      <td>13.12</td>\n",
       "      <td>15.150</td>\n",
       "      <td>39</td>\n",
       "      <td>16.9979</td>\n",
       "      <td>14</td>\n",
       "      <td>...</td>\n",
       "      <td>0</td>\n",
       "      <td>0</td>\n",
       "      <td>0</td>\n",
       "      <td>0</td>\n",
       "      <td>0</td>\n",
       "      <td>0</td>\n",
       "      <td>0</td>\n",
       "      <td>0</td>\n",
       "      <td>0</td>\n",
       "      <td>0</td>\n",
       "    </tr>\n",
       "    <tr>\n",
       "      <th>6862</th>\n",
       "      <td>2012-04-04 06:00:00</td>\n",
       "      <td>2</td>\n",
       "      <td>0</td>\n",
       "      <td>1</td>\n",
       "      <td>2</td>\n",
       "      <td>17.22</td>\n",
       "      <td>21.210</td>\n",
       "      <td>58</td>\n",
       "      <td>0.0000</td>\n",
       "      <td>6</td>\n",
       "      <td>...</td>\n",
       "      <td>0</td>\n",
       "      <td>1</td>\n",
       "      <td>0</td>\n",
       "      <td>0</td>\n",
       "      <td>0</td>\n",
       "      <td>0</td>\n",
       "      <td>0</td>\n",
       "      <td>0</td>\n",
       "      <td>0</td>\n",
       "      <td>0</td>\n",
       "    </tr>\n",
       "  </tbody>\n",
       "</table>\n",
       "<p>5 rows × 60 columns</p>\n",
       "</div>"
      ],
      "text/plain": [
       "                  datetime  season  holiday  workingday  weather   temp  \\\n",
       "5827   2012-01-18 00:00:00       1        0           1        2  18.86   \n",
       "5243   2011-12-12 13:00:00       4        0           1        2  12.30   \n",
       "10119  2012-11-07 00:00:00       4        0           1        2  12.30   \n",
       "343    2011-01-15 19:00:00       1        0           0        2  13.12   \n",
       "6862   2012-04-04 06:00:00       2        0           1        2  17.22   \n",
       "\n",
       "        atemp  humidity  windspeed  casual  ...  m3  m4  m5  m6  m7  m8  m9  \\\n",
       "5827   22.725        77    22.0028       3  ...   0   0   0   0   0   0   0   \n",
       "5243   15.910        52     7.0015      13  ...   0   0   0   0   0   0   0   \n",
       "10119  14.395        56    19.0012      49  ...   0   0   0   0   0   0   0   \n",
       "343    15.150        39    16.9979      14  ...   0   0   0   0   0   0   0   \n",
       "6862   21.210        58     0.0000       6  ...   0   1   0   0   0   0   0   \n",
       "\n",
       "       m10  m11  m12  \n",
       "5827     0    0    0  \n",
       "5243     0    0    1  \n",
       "10119    0    1    0  \n",
       "343      0    0    0  \n",
       "6862     0    0    0  \n",
       "\n",
       "[5 rows x 60 columns]"
      ]
     },
     "execution_count": 31,
     "metadata": {},
     "output_type": "execute_result"
    }
   ],
   "source": [
    "for i in feed.groupby(\"mth\").count().index:\n",
    "    s = 'm' + str(i)\n",
    "    a = []\n",
    "    for j in feed.mth:\n",
    "        if j==i:\n",
    "            a.append(1)\n",
    "        else:\n",
    "            a.append(0)\n",
    "    feed[s] = a\n",
    "feed.sample(5)"
   ]
  },
  {
   "cell_type": "code",
   "execution_count": 32,
   "metadata": {},
   "outputs": [
    {
     "data": {
      "text/plain": [
       "Index(['datetime', 'season', 'holiday', 'workingday', 'weather', 'temp',\n",
       "       'atemp', 'humidity', 'windspeed', 'casual', 'registered', 'count', 'hr',\n",
       "       'dy', 'mth', 'yr', 's1', 's2', 's3', 's4', 'w1', 'w2', 'w3', 'w4',\n",
       "       'hr0', 'hr1', 'hr2', 'hr3', 'hr4', 'hr5', 'hr6', 'hr7', 'hr8', 'hr9',\n",
       "       'hr10', 'hr11', 'hr12', 'hr13', 'hr14', 'hr15', 'hr16', 'hr17', 'hr18',\n",
       "       'hr19', 'hr20', 'hr21', 'hr22', 'hr23', 'm1', 'm2', 'm3', 'm4', 'm5',\n",
       "       'm6', 'm7', 'm8', 'm9', 'm10', 'm11', 'm12'],\n",
       "      dtype='object')"
      ]
     },
     "execution_count": 32,
     "metadata": {},
     "output_type": "execute_result"
    }
   ],
   "source": [
    "feed.columns"
   ]
  },
  {
   "cell_type": "markdown",
   "metadata": {},
   "source": [
    "## Removing unnecessary columns"
   ]
  },
  {
   "cell_type": "code",
   "execution_count": 33,
   "metadata": {},
   "outputs": [],
   "source": [
    "feed = feed[['hr0','hr1','hr2','hr3','hr4','hr5','hr6','hr7','hr8','hr9','hr10','hr11','hr12','hr13','hr14','hr15','hr16','hr17','hr18',\n",
    "                 'hr19','hr20','hr21','hr22','hr23','m1','m2','m3','m4','m5','m6','m7','m8','m9','m10','m11','m12','yr',\n",
    "                 's1','s2','s3','s4','holiday','workingday','w1','w2','w3','w4','temp','humidity','casual','registered']]"
   ]
  },
  {
   "cell_type": "code",
   "execution_count": 34,
   "metadata": {},
   "outputs": [
    {
     "data": {
      "text/plain": [
       "<bound method NDFrame.describe of        hr0  hr1  hr2  hr3  hr4  hr5  hr6  hr7  hr8  hr9  ...  holiday  \\\n",
       "0        1    0    0    0    0    0    0    0    0    0  ...        0   \n",
       "1        0    1    0    0    0    0    0    0    0    0  ...        0   \n",
       "2        0    0    1    0    0    0    0    0    0    0  ...        0   \n",
       "3        0    0    0    1    0    0    0    0    0    0  ...        0   \n",
       "4        0    0    0    0    1    0    0    0    0    0  ...        0   \n",
       "...    ...  ...  ...  ...  ...  ...  ...  ...  ...  ...  ...      ...   \n",
       "10881    0    0    0    0    0    0    0    0    0    0  ...        0   \n",
       "10882    0    0    0    0    0    0    0    0    0    0  ...        0   \n",
       "10883    0    0    0    0    0    0    0    0    0    0  ...        0   \n",
       "10884    0    0    0    0    0    0    0    0    0    0  ...        0   \n",
       "10885    0    0    0    0    0    0    0    0    0    0  ...        0   \n",
       "\n",
       "       workingday  w1  w2  w3  w4   temp  humidity  casual  registered  \n",
       "0               0   1   0   0   0   9.84        81       3          13  \n",
       "1               0   1   0   0   0   9.02        80       8          32  \n",
       "2               0   1   0   0   0   9.02        80       5          27  \n",
       "3               0   1   0   0   0   9.84        75       3          10  \n",
       "4               0   1   0   0   0   9.84        75       0           1  \n",
       "...           ...  ..  ..  ..  ..    ...       ...     ...         ...  \n",
       "10881           1   1   0   0   0  15.58        50       7         329  \n",
       "10882           1   1   0   0   0  14.76        57      10         231  \n",
       "10883           1   1   0   0   0  13.94        61       4         164  \n",
       "10884           1   1   0   0   0  13.94        61      12         117  \n",
       "10885           1   1   0   0   0  13.12        66       4          84  \n",
       "\n",
       "[10886 rows x 51 columns]>"
      ]
     },
     "execution_count": 34,
     "metadata": {},
     "output_type": "execute_result"
    }
   ],
   "source": [
    "feed.describe"
   ]
  },
  {
   "cell_type": "markdown",
   "metadata": {},
   "source": [
    "# Preparing training and testing sets"
   ]
  },
  {
   "cell_type": "markdown",
   "metadata": {},
   "source": [
    "### 1. Training set"
   ]
  },
  {
   "cell_type": "code",
   "execution_count": 35,
   "metadata": {},
   "outputs": [
    {
     "data": {
      "text/plain": [
       "<bound method NDFrame.describe of        hr0  hr1  hr2  hr3  hr4  hr5  hr6  hr7  hr8  hr9  ...  s3  s4  holiday  \\\n",
       "0        1    0    0    0    0    0    0    0    0    0  ...   0   0        0   \n",
       "1        0    1    0    0    0    0    0    0    0    0  ...   0   0        0   \n",
       "2        0    0    1    0    0    0    0    0    0    0  ...   0   0        0   \n",
       "3        0    0    0    1    0    0    0    0    0    0  ...   0   0        0   \n",
       "4        0    0    0    0    1    0    0    0    0    0  ...   0   0        0   \n",
       "...    ...  ...  ...  ...  ...  ...  ...  ...  ...  ...  ...  ..  ..      ...   \n",
       "10881    0    0    0    0    0    0    0    0    0    0  ...   0   1        0   \n",
       "10882    0    0    0    0    0    0    0    0    0    0  ...   0   1        0   \n",
       "10883    0    0    0    0    0    0    0    0    0    0  ...   0   1        0   \n",
       "10884    0    0    0    0    0    0    0    0    0    0  ...   0   1        0   \n",
       "10885    0    0    0    0    0    0    0    0    0    0  ...   0   1        0   \n",
       "\n",
       "       workingday  w1  w2  w3  w4   temp  humidity  \n",
       "0               0   1   0   0   0   9.84        81  \n",
       "1               0   1   0   0   0   9.02        80  \n",
       "2               0   1   0   0   0   9.02        80  \n",
       "3               0   1   0   0   0   9.84        75  \n",
       "4               0   1   0   0   0   9.84        75  \n",
       "...           ...  ..  ..  ..  ..    ...       ...  \n",
       "10881           1   1   0   0   0  15.58        50  \n",
       "10882           1   1   0   0   0  14.76        57  \n",
       "10883           1   1   0   0   0  13.94        61  \n",
       "10884           1   1   0   0   0  13.94        61  \n",
       "10885           1   1   0   0   0  13.12        66  \n",
       "\n",
       "[10886 rows x 49 columns]>"
      ]
     },
     "execution_count": 35,
     "metadata": {},
     "output_type": "execute_result"
    }
   ],
   "source": [
    "df_train_x = feed.drop('casual',axis = 1).drop('registered',axis=1)\n",
    "df_train_x.describe"
   ]
  },
  {
   "cell_type": "raw",
   "metadata": {},
   "source": [
    "Training set will be the same for both the models."
   ]
  },
  {
   "cell_type": "markdown",
   "metadata": {},
   "source": [
    "### 2. Training set"
   ]
  },
  {
   "cell_type": "code",
   "execution_count": 36,
   "metadata": {},
   "outputs": [
    {
     "data": {
      "text/plain": [
       "<bound method NDFrame.describe of 0         13\n",
       "1         32\n",
       "2         27\n",
       "3         10\n",
       "4          1\n",
       "        ... \n",
       "10881    329\n",
       "10882    231\n",
       "10883    164\n",
       "10884    117\n",
       "10885     84\n",
       "Name: registered, Length: 10886, dtype: int64>"
      ]
     },
     "execution_count": 36,
     "metadata": {},
     "output_type": "execute_result"
    }
   ],
   "source": [
    "df_reg_train_y = feed['registered']\n",
    "df_reg_train_y.describe"
   ]
  },
  {
   "cell_type": "code",
   "execution_count": 37,
   "metadata": {},
   "outputs": [
    {
     "data": {
      "text/plain": [
       "<bound method NDFrame.describe of 0         3\n",
       "1         8\n",
       "2         5\n",
       "3         3\n",
       "4         0\n",
       "         ..\n",
       "10881     7\n",
       "10882    10\n",
       "10883     4\n",
       "10884    12\n",
       "10885     4\n",
       "Name: casual, Length: 10886, dtype: int64>"
      ]
     },
     "execution_count": 37,
     "metadata": {},
     "output_type": "execute_result"
    }
   ],
   "source": [
    "df_cas_train_y = feed['casual']\n",
    "df_cas_train_y.describe"
   ]
  },
  {
   "cell_type": "markdown",
   "metadata": {},
   "source": [
    "# Machine learning model"
   ]
  },
  {
   "cell_type": "markdown",
   "metadata": {},
   "source": [
    "### Splitting data into train and test sets"
   ]
  },
  {
   "cell_type": "code",
   "execution_count": 38,
   "metadata": {},
   "outputs": [],
   "source": [
    "x1_train, x1_test, y1_train, y1_test = train_test_split(df_train_x, df_cas_train_y, test_size=0.15, random_state=42)\n",
    "x2_train, x2_test, y2_train, y2_test = train_test_split(df_train_x, df_reg_train_y, test_size=0.15, random_state=42)"
   ]
  },
  {
   "cell_type": "markdown",
   "metadata": {},
   "source": [
    "### Using polynomial on the dataset"
   ]
  },
  {
   "cell_type": "code",
   "execution_count": 39,
   "metadata": {},
   "outputs": [],
   "source": [
    "poly = PolynomialFeatures(degree=2)\n",
    "poly_x1_train = poly.fit_transform(x1_train)\n",
    "poly_x1_test = poly.fit_transform(x1_test)\n",
    "poly_x2_train = poly.fit_transform(x2_train)\n",
    "poly_x2_test = poly.fit_transform(x2_test)"
   ]
  },
  {
   "cell_type": "markdown",
   "metadata": {},
   "source": [
    "### Trying different models to see which one works best for the given data."
   ]
  },
  {
   "cell_type": "code",
   "execution_count": 40,
   "metadata": {},
   "outputs": [
    {
     "name": "stdout",
     "output_type": "stream",
     "text": [
      "1 : 1.5588335909799573\n",
      "6 : 1.0877222654801082\n",
      "11 : 0.8671210974590496\n",
      "16 : 0.7316776192462918\n",
      "21 : 0.6682543848686607\n",
      "26 : 0.6490084399403926\n",
      "31 : 0.6469975089692357\n",
      "36 : 0.6488423437487851\n",
      "41 : 0.6516801492886238\n",
      "46 : 0.6531384144975823\n",
      "51 : 0.6495255264978685\n",
      "56 : 0.6530501551816081\n"
     ]
    }
   ],
   "source": [
    "predict1=[]\n",
    "for i in range (0,60,5):\n",
    "    dt = RandomForestRegressor(n_estimators = 100,max_depth=i+1).fit(x1_train, y1_train)\n",
    "    pre_dt = dt.predict(x1_test)\n",
    "    predict1.append(pre_dt)\n",
    "i=0\n",
    "for prediction in predict1:\n",
    "    pre = []\n",
    "    for p in prediction:\n",
    "        if p < 0:\n",
    "            pre.append(0)\n",
    "        else:\n",
    "            pre.append(p)\n",
    "    print(str (i*5+1)+\" : \"+str(np.sqrt(mean_squared_log_error( y1_test, pre ))))\n",
    "    i+=1"
   ]
  },
  {
   "cell_type": "markdown",
   "metadata": {},
   "source": [
    "We can see that the minimum must occur between i=21 and 1=41"
   ]
  },
  {
   "cell_type": "code",
   "execution_count": 41,
   "metadata": {},
   "outputs": [
    {
     "name": "stdout",
     "output_type": "stream",
     "text": [
      "41 : 0.668170099615972\n",
      "43 : 0.6600143684719203\n",
      "45 : 0.6544470621358706\n",
      "47 : 0.6518873572425985\n",
      "49 : 0.648769500956988\n",
      "51 : 0.6514942877609873\n",
      "53 : 0.6558001312728237\n",
      "55 : 0.6477730554423222\n",
      "57 : 0.6503310914648821\n",
      "59 : 0.6493047187924744\n"
     ]
    }
   ],
   "source": [
    "predict1=[]\n",
    "for i in range (20,40,2):\n",
    "    dt = RandomForestRegressor(n_estimators = 100,max_depth=i+1).fit(x1_train, y1_train)\n",
    "    pre_dt = dt.predict(x1_test)\n",
    "    predict1.append(pre_dt)\n",
    "i=20\n",
    "for prediction in predict1:\n",
    "    pre = []\n",
    "    for p in prediction:\n",
    "        if p < 0:\n",
    "            pre.append(0)\n",
    "        else:\n",
    "            pre.append(p)\n",
    "    print(str (i*2+1)+\" : \"+str(np.sqrt(mean_squared_log_error( y1_test, pre ))))\n",
    "    i+=1"
   ]
  },
  {
   "cell_type": "markdown",
   "metadata": {},
   "source": [
    "We can conclude that the optimal value for depth = 50 for the random forest after which it starts to overfit for casual.\n",
    "\n",
    "**P.S: The actual minimum values may vary from instance to instance due to the randomness in the trees generated however the optimal depth will be more or less the same compared to the optimal chosen value**"
   ]
  },
  {
   "cell_type": "code",
   "execution_count": 42,
   "metadata": {},
   "outputs": [
    {
     "name": "stdout",
     "output_type": "stream",
     "text": [
      "1 : 1.556906527868858\n",
      "6 : 1.337039469744858\n",
      "11 : 0.9959762787405447\n",
      "16 : 0.6779722584361657\n",
      "21 : 0.5010659940661539\n",
      "26 : 0.423953307868524\n",
      "31 : 0.41618367118840466\n",
      "36 : 0.417449518969457\n",
      "41 : 0.41813718793207927\n",
      "46 : 0.41663371253854037\n",
      "51 : 0.4143086273543202\n",
      "56 : 0.41480211701060266\n",
      "61 : 0.41773503605060575\n",
      "66 : 0.4094284591632525\n"
     ]
    }
   ],
   "source": [
    "predict1=[]\n",
    "for i in range (0,70,5):\n",
    "    dt = RandomForestRegressor(n_estimators=100,max_depth=i+1).fit(x2_train, y2_train)\n",
    "    pre_dt = dt.predict(x2_test)\n",
    "    predict1.append(pre_dt)\n",
    "i=0\n",
    "for prediction in predict1:\n",
    "    pre = []\n",
    "    for p in prediction:\n",
    "        if p < 0:\n",
    "            pre.append(0)\n",
    "        else:\n",
    "            pre.append(p)\n",
    "    print(str (5*i+1)+\" : \"+str(np.sqrt(mean_squared_log_error( y2_test, pre ))))\n",
    "    i+=1"
   ]
  },
  {
   "cell_type": "markdown",
   "metadata": {},
   "source": [
    "We can see that the minimum must occur between i = 56  and i = 66"
   ]
  },
  {
   "cell_type": "code",
   "execution_count": 43,
   "metadata": {},
   "outputs": [
    {
     "name": "stdout",
     "output_type": "stream",
     "text": [
      "56 : 0.41116478559322306\n",
      "57 : 0.4169816012584681\n",
      "58 : 0.41892973917001114\n",
      "59 : 0.42265523819584866\n",
      "60 : 0.41022168346505444\n",
      "61 : 0.41839749914358526\n",
      "62 : 0.4172234509464982\n",
      "63 : 0.41383311406631423\n",
      "64 : 0.4142616761396202\n",
      "65 : 0.4155007577894159\n"
     ]
    }
   ],
   "source": [
    "predict1=[]\n",
    "for i in range (55,65,1):\n",
    "    dt = RandomForestRegressor(n_estimators = 100,max_depth=i+1).fit(x2_train, y2_train)\n",
    "    pre_dt = dt.predict(x2_test)\n",
    "    predict1.append(pre_dt)\n",
    "i=55\n",
    "for prediction in predict1:\n",
    "    pre = []\n",
    "    for p in prediction:\n",
    "        if p < 0:\n",
    "            pre.append(0)\n",
    "        else:\n",
    "            pre.append(p)\n",
    "    print(str (i+1)+\" : \"+str(np.sqrt(mean_squared_log_error( y2_test, pre ))))\n",
    "    i+=1"
   ]
  },
  {
   "cell_type": "markdown",
   "metadata": {},
   "source": [
    "We can conclude that the optimal value for depth = 60 for the random forest after which it starts to overfit for registered.\n",
    "\n",
    "**P.S: The actual minimum values may vary from instance to instance due to the randomness in the trees generated however the optimal depth will be more or less the same compared to the optimal chosen value**"
   ]
  },
  {
   "cell_type": "code",
   "execution_count": 44,
   "metadata": {},
   "outputs": [
    {
     "name": "stdout",
     "output_type": "stream",
     "text": [
      "1.023731513297351\n",
      "0.8942442901178272\n",
      "0.6481364136185888\n"
     ]
    }
   ],
   "source": [
    "predict1 = []\n",
    "\n",
    "reg1 = LinearRegression().fit(x1_train, y1_train)\n",
    "pre_reg1 = reg1.predict(x1_test)\n",
    "\n",
    "reg1_poly = LinearRegression().fit(poly_x1_train, y1_train)\n",
    "pre_reg1_poly = reg1_poly.predict(poly_x1_test)\n",
    "\n",
    "rf1 = RandomForestRegressor(n_estimators = 100,max_depth=50).fit(x1_train, y1_train)\n",
    "pre_rf1 = rf1.predict(x1_test)\n",
    "\n",
    "predict1.append(pre_reg1)\n",
    "predict1.append(pre_reg1_poly)\n",
    "predict1.append(pre_rf1)\n",
    "\n",
    "for prediction in predict1:\n",
    "    pre = []\n",
    "    for p in prediction:\n",
    "        if p < 0:\n",
    "            pre.append(1)\n",
    "        else:\n",
    "            pre.append(p)\n",
    "    print(np.sqrt(mean_squared_log_error( y1_test, pre )))"
   ]
  },
  {
   "cell_type": "markdown",
   "metadata": {},
   "source": [
    "Since we know that the output is never less than 1 we replace all negative values with 1 before appending in pre to calculate error."
   ]
  },
  {
   "cell_type": "code",
   "execution_count": 45,
   "metadata": {},
   "outputs": [
    {
     "data": {
      "text/html": [
       "<div>\n",
       "<style scoped>\n",
       "    .dataframe tbody tr th:only-of-type {\n",
       "        vertical-align: middle;\n",
       "    }\n",
       "\n",
       "    .dataframe tbody tr th {\n",
       "        vertical-align: top;\n",
       "    }\n",
       "\n",
       "    .dataframe thead th {\n",
       "        text-align: right;\n",
       "    }\n",
       "</style>\n",
       "<table border=\"1\" class=\"dataframe\">\n",
       "  <thead>\n",
       "    <tr style=\"text-align: right;\">\n",
       "      <th></th>\n",
       "      <th>casual</th>\n",
       "    </tr>\n",
       "  </thead>\n",
       "  <tbody>\n",
       "    <tr>\n",
       "      <th>count</th>\n",
       "      <td>1633.000000</td>\n",
       "    </tr>\n",
       "    <tr>\n",
       "      <th>mean</th>\n",
       "      <td>35.149014</td>\n",
       "    </tr>\n",
       "    <tr>\n",
       "      <th>std</th>\n",
       "      <td>38.112969</td>\n",
       "    </tr>\n",
       "    <tr>\n",
       "      <th>min</th>\n",
       "      <td>-59.992920</td>\n",
       "    </tr>\n",
       "    <tr>\n",
       "      <th>25%</th>\n",
       "      <td>7.695312</td>\n",
       "    </tr>\n",
       "    <tr>\n",
       "      <th>50%</th>\n",
       "      <td>33.443848</td>\n",
       "    </tr>\n",
       "    <tr>\n",
       "      <th>75%</th>\n",
       "      <td>62.923340</td>\n",
       "    </tr>\n",
       "    <tr>\n",
       "      <th>max</th>\n",
       "      <td>140.464844</td>\n",
       "    </tr>\n",
       "  </tbody>\n",
       "</table>\n",
       "</div>"
      ],
      "text/plain": [
       "            casual\n",
       "count  1633.000000\n",
       "mean     35.149014\n",
       "std      38.112969\n",
       "min     -59.992920\n",
       "25%       7.695312\n",
       "50%      33.443848\n",
       "75%      62.923340\n",
       "max     140.464844"
      ]
     },
     "execution_count": 45,
     "metadata": {},
     "output_type": "execute_result"
    }
   ],
   "source": [
    "pd.DataFrame(pre_reg1,columns = ['casual']).describe()"
   ]
  },
  {
   "cell_type": "code",
   "execution_count": 46,
   "metadata": {},
   "outputs": [
    {
     "name": "stdout",
     "output_type": "stream",
     "text": [
      "1.0057735958513363\n",
      "0.6590436188670552\n",
      "0.4130877258732721\n"
     ]
    }
   ],
   "source": [
    "predict2 = []\n",
    "\n",
    "reg2 = LinearRegression().fit(x2_train, y2_train)\n",
    "pre_reg2 = reg2.predict(x2_test)\n",
    "\n",
    "reg2_poly = LinearRegression().fit(poly_x2_train, y2_train)\n",
    "pre_reg2_poly = reg2_poly.predict(poly_x2_test)\n",
    "\n",
    "rf2 = RandomForestRegressor(n_estimators = 100,max_depth=60).fit(x2_train, y2_train)\n",
    "pre_rf2 = rf2.predict(x2_test)\n",
    "\n",
    "predict2.append(pre_reg2)\n",
    "predict2.append(pre_reg2_poly)\n",
    "predict2.append(pre_rf2)\n",
    "\n",
    "for prediction in predict2:\n",
    "    pre = []\n",
    "    for p in prediction:\n",
    "        if p < 0:\n",
    "            pre.append(1)\n",
    "        else:\n",
    "            pre.append(p)\n",
    "    print(np.sqrt(mean_squared_log_error( y2_test, pre )))"
   ]
  },
  {
   "cell_type": "markdown",
   "metadata": {},
   "source": [
    "Since we know that the output is never less than 1 we replace all negative values with 1 before appending in pre to calculate error."
   ]
  },
  {
   "cell_type": "code",
   "execution_count": 47,
   "metadata": {},
   "outputs": [
    {
     "data": {
      "text/html": [
       "<div>\n",
       "<style scoped>\n",
       "    .dataframe tbody tr th:only-of-type {\n",
       "        vertical-align: middle;\n",
       "    }\n",
       "\n",
       "    .dataframe tbody tr th {\n",
       "        vertical-align: top;\n",
       "    }\n",
       "\n",
       "    .dataframe thead th {\n",
       "        text-align: right;\n",
       "    }\n",
       "</style>\n",
       "<table border=\"1\" class=\"dataframe\">\n",
       "  <thead>\n",
       "    <tr style=\"text-align: right;\">\n",
       "      <th></th>\n",
       "      <th>registered</th>\n",
       "    </tr>\n",
       "  </thead>\n",
       "  <tbody>\n",
       "    <tr>\n",
       "      <th>count</th>\n",
       "      <td>1633.000000</td>\n",
       "    </tr>\n",
       "    <tr>\n",
       "      <th>mean</th>\n",
       "      <td>150.860613</td>\n",
       "    </tr>\n",
       "    <tr>\n",
       "      <th>std</th>\n",
       "      <td>122.663435</td>\n",
       "    </tr>\n",
       "    <tr>\n",
       "      <th>min</th>\n",
       "      <td>-142.786621</td>\n",
       "    </tr>\n",
       "    <tr>\n",
       "      <th>25%</th>\n",
       "      <td>60.552734</td>\n",
       "    </tr>\n",
       "    <tr>\n",
       "      <th>50%</th>\n",
       "      <td>142.763184</td>\n",
       "    </tr>\n",
       "    <tr>\n",
       "      <th>75%</th>\n",
       "      <td>229.649902</td>\n",
       "    </tr>\n",
       "    <tr>\n",
       "      <th>max</th>\n",
       "      <td>488.712891</td>\n",
       "    </tr>\n",
       "  </tbody>\n",
       "</table>\n",
       "</div>"
      ],
      "text/plain": [
       "        registered\n",
       "count  1633.000000\n",
       "mean    150.860613\n",
       "std     122.663435\n",
       "min    -142.786621\n",
       "25%      60.552734\n",
       "50%     142.763184\n",
       "75%     229.649902\n",
       "max     488.712891"
      ]
     },
     "execution_count": 47,
     "metadata": {},
     "output_type": "execute_result"
    }
   ],
   "source": [
    "pd.DataFrame(pre_reg2,columns = ['registered']).describe()"
   ]
  },
  {
   "cell_type": "markdown",
   "metadata": {},
   "source": [
    "Clearly the random forest model works best in this situation."
   ]
  },
  {
   "cell_type": "markdown",
   "metadata": {},
   "source": [
    "### Retraining the decision tree over the whole dataset for submission."
   ]
  },
  {
   "cell_type": "code",
   "execution_count": 48,
   "metadata": {},
   "outputs": [],
   "source": [
    "rf1 = RandomForestRegressor(max_depth = 50).fit(df_train_x,df_cas_train_y)\n",
    "rf2 = RandomForestRegressor(max_depth = 60).fit(df_train_x,df_reg_train_y)"
   ]
  },
  {
   "cell_type": "markdown",
   "metadata": {},
   "source": [
    "### Reading the test file"
   ]
  },
  {
   "cell_type": "code",
   "execution_count": 49,
   "metadata": {},
   "outputs": [],
   "source": [
    "test_file = pd.read_csv('/kaggle/input/bike-sharing-demand/test.csv')"
   ]
  },
  {
   "cell_type": "code",
   "execution_count": 50,
   "metadata": {},
   "outputs": [
    {
     "data": {
      "text/html": [
       "<div>\n",
       "<style scoped>\n",
       "    .dataframe tbody tr th:only-of-type {\n",
       "        vertical-align: middle;\n",
       "    }\n",
       "\n",
       "    .dataframe tbody tr th {\n",
       "        vertical-align: top;\n",
       "    }\n",
       "\n",
       "    .dataframe thead th {\n",
       "        text-align: right;\n",
       "    }\n",
       "</style>\n",
       "<table border=\"1\" class=\"dataframe\">\n",
       "  <thead>\n",
       "    <tr style=\"text-align: right;\">\n",
       "      <th></th>\n",
       "      <th>season</th>\n",
       "      <th>holiday</th>\n",
       "      <th>workingday</th>\n",
       "      <th>weather</th>\n",
       "      <th>temp</th>\n",
       "      <th>atemp</th>\n",
       "      <th>humidity</th>\n",
       "      <th>windspeed</th>\n",
       "    </tr>\n",
       "  </thead>\n",
       "  <tbody>\n",
       "    <tr>\n",
       "      <th>count</th>\n",
       "      <td>6493.000000</td>\n",
       "      <td>6493.000000</td>\n",
       "      <td>6493.000000</td>\n",
       "      <td>6493.000000</td>\n",
       "      <td>6493.000000</td>\n",
       "      <td>6493.000000</td>\n",
       "      <td>6493.000000</td>\n",
       "      <td>6493.000000</td>\n",
       "    </tr>\n",
       "    <tr>\n",
       "      <th>mean</th>\n",
       "      <td>2.493300</td>\n",
       "      <td>0.029108</td>\n",
       "      <td>0.685815</td>\n",
       "      <td>1.436778</td>\n",
       "      <td>20.620607</td>\n",
       "      <td>24.012865</td>\n",
       "      <td>64.125212</td>\n",
       "      <td>12.631157</td>\n",
       "    </tr>\n",
       "    <tr>\n",
       "      <th>std</th>\n",
       "      <td>1.091258</td>\n",
       "      <td>0.168123</td>\n",
       "      <td>0.464226</td>\n",
       "      <td>0.648390</td>\n",
       "      <td>8.059583</td>\n",
       "      <td>8.782741</td>\n",
       "      <td>19.293391</td>\n",
       "      <td>8.250151</td>\n",
       "    </tr>\n",
       "    <tr>\n",
       "      <th>min</th>\n",
       "      <td>1.000000</td>\n",
       "      <td>0.000000</td>\n",
       "      <td>0.000000</td>\n",
       "      <td>1.000000</td>\n",
       "      <td>0.820000</td>\n",
       "      <td>0.000000</td>\n",
       "      <td>16.000000</td>\n",
       "      <td>0.000000</td>\n",
       "    </tr>\n",
       "    <tr>\n",
       "      <th>25%</th>\n",
       "      <td>2.000000</td>\n",
       "      <td>0.000000</td>\n",
       "      <td>0.000000</td>\n",
       "      <td>1.000000</td>\n",
       "      <td>13.940000</td>\n",
       "      <td>16.665000</td>\n",
       "      <td>49.000000</td>\n",
       "      <td>7.001500</td>\n",
       "    </tr>\n",
       "    <tr>\n",
       "      <th>50%</th>\n",
       "      <td>3.000000</td>\n",
       "      <td>0.000000</td>\n",
       "      <td>1.000000</td>\n",
       "      <td>1.000000</td>\n",
       "      <td>21.320000</td>\n",
       "      <td>25.000000</td>\n",
       "      <td>65.000000</td>\n",
       "      <td>11.001400</td>\n",
       "    </tr>\n",
       "    <tr>\n",
       "      <th>75%</th>\n",
       "      <td>3.000000</td>\n",
       "      <td>0.000000</td>\n",
       "      <td>1.000000</td>\n",
       "      <td>2.000000</td>\n",
       "      <td>27.060000</td>\n",
       "      <td>31.060000</td>\n",
       "      <td>81.000000</td>\n",
       "      <td>16.997900</td>\n",
       "    </tr>\n",
       "    <tr>\n",
       "      <th>max</th>\n",
       "      <td>4.000000</td>\n",
       "      <td>1.000000</td>\n",
       "      <td>1.000000</td>\n",
       "      <td>4.000000</td>\n",
       "      <td>40.180000</td>\n",
       "      <td>50.000000</td>\n",
       "      <td>100.000000</td>\n",
       "      <td>55.998600</td>\n",
       "    </tr>\n",
       "  </tbody>\n",
       "</table>\n",
       "</div>"
      ],
      "text/plain": [
       "            season      holiday   workingday      weather         temp  \\\n",
       "count  6493.000000  6493.000000  6493.000000  6493.000000  6493.000000   \n",
       "mean      2.493300     0.029108     0.685815     1.436778    20.620607   \n",
       "std       1.091258     0.168123     0.464226     0.648390     8.059583   \n",
       "min       1.000000     0.000000     0.000000     1.000000     0.820000   \n",
       "25%       2.000000     0.000000     0.000000     1.000000    13.940000   \n",
       "50%       3.000000     0.000000     1.000000     1.000000    21.320000   \n",
       "75%       3.000000     0.000000     1.000000     2.000000    27.060000   \n",
       "max       4.000000     1.000000     1.000000     4.000000    40.180000   \n",
       "\n",
       "             atemp     humidity    windspeed  \n",
       "count  6493.000000  6493.000000  6493.000000  \n",
       "mean     24.012865    64.125212    12.631157  \n",
       "std       8.782741    19.293391     8.250151  \n",
       "min       0.000000    16.000000     0.000000  \n",
       "25%      16.665000    49.000000     7.001500  \n",
       "50%      25.000000    65.000000    11.001400  \n",
       "75%      31.060000    81.000000    16.997900  \n",
       "max      50.000000   100.000000    55.998600  "
      ]
     },
     "execution_count": 50,
     "metadata": {},
     "output_type": "execute_result"
    }
   ],
   "source": [
    "test=test_file\n",
    "test.describe()"
   ]
  },
  {
   "cell_type": "markdown",
   "metadata": {},
   "source": [
    "## Processing of the test file"
   ]
  },
  {
   "cell_type": "code",
   "execution_count": 51,
   "metadata": {},
   "outputs": [
    {
     "data": {
      "text/html": [
       "<div>\n",
       "<style scoped>\n",
       "    .dataframe tbody tr th:only-of-type {\n",
       "        vertical-align: middle;\n",
       "    }\n",
       "\n",
       "    .dataframe tbody tr th {\n",
       "        vertical-align: top;\n",
       "    }\n",
       "\n",
       "    .dataframe thead th {\n",
       "        text-align: right;\n",
       "    }\n",
       "</style>\n",
       "<table border=\"1\" class=\"dataframe\">\n",
       "  <thead>\n",
       "    <tr style=\"text-align: right;\">\n",
       "      <th></th>\n",
       "      <th>datetime</th>\n",
       "      <th>season</th>\n",
       "      <th>holiday</th>\n",
       "      <th>workingday</th>\n",
       "      <th>weather</th>\n",
       "      <th>temp</th>\n",
       "      <th>atemp</th>\n",
       "      <th>humidity</th>\n",
       "      <th>windspeed</th>\n",
       "      <th>mth</th>\n",
       "      <th>...</th>\n",
       "      <th>m3</th>\n",
       "      <th>m4</th>\n",
       "      <th>m5</th>\n",
       "      <th>m6</th>\n",
       "      <th>m7</th>\n",
       "      <th>m8</th>\n",
       "      <th>m9</th>\n",
       "      <th>m10</th>\n",
       "      <th>m11</th>\n",
       "      <th>m12</th>\n",
       "    </tr>\n",
       "  </thead>\n",
       "  <tbody>\n",
       "    <tr>\n",
       "      <th>6007</th>\n",
       "      <td>2012-11-22 15:00:00</td>\n",
       "      <td>4</td>\n",
       "      <td>1</td>\n",
       "      <td>0</td>\n",
       "      <td>1</td>\n",
       "      <td>19.68</td>\n",
       "      <td>23.485</td>\n",
       "      <td>29</td>\n",
       "      <td>0.0000</td>\n",
       "      <td>11</td>\n",
       "      <td>...</td>\n",
       "      <td>0</td>\n",
       "      <td>0</td>\n",
       "      <td>0</td>\n",
       "      <td>0</td>\n",
       "      <td>0</td>\n",
       "      <td>0</td>\n",
       "      <td>0</td>\n",
       "      <td>0</td>\n",
       "      <td>1</td>\n",
       "      <td>0</td>\n",
       "    </tr>\n",
       "    <tr>\n",
       "      <th>246</th>\n",
       "      <td>2011-01-31 13:00:00</td>\n",
       "      <td>1</td>\n",
       "      <td>0</td>\n",
       "      <td>1</td>\n",
       "      <td>2</td>\n",
       "      <td>6.56</td>\n",
       "      <td>11.365</td>\n",
       "      <td>59</td>\n",
       "      <td>0.0000</td>\n",
       "      <td>1</td>\n",
       "      <td>...</td>\n",
       "      <td>0</td>\n",
       "      <td>0</td>\n",
       "      <td>0</td>\n",
       "      <td>0</td>\n",
       "      <td>0</td>\n",
       "      <td>0</td>\n",
       "      <td>0</td>\n",
       "      <td>0</td>\n",
       "      <td>0</td>\n",
       "      <td>0</td>\n",
       "    </tr>\n",
       "    <tr>\n",
       "      <th>4063</th>\n",
       "      <td>2012-04-21 03:00:00</td>\n",
       "      <td>2</td>\n",
       "      <td>0</td>\n",
       "      <td>0</td>\n",
       "      <td>1</td>\n",
       "      <td>20.50</td>\n",
       "      <td>24.240</td>\n",
       "      <td>82</td>\n",
       "      <td>15.0013</td>\n",
       "      <td>4</td>\n",
       "      <td>...</td>\n",
       "      <td>0</td>\n",
       "      <td>1</td>\n",
       "      <td>0</td>\n",
       "      <td>0</td>\n",
       "      <td>0</td>\n",
       "      <td>0</td>\n",
       "      <td>0</td>\n",
       "      <td>0</td>\n",
       "      <td>0</td>\n",
       "      <td>0</td>\n",
       "    </tr>\n",
       "    <tr>\n",
       "      <th>5942</th>\n",
       "      <td>2012-10-31 22:00:00</td>\n",
       "      <td>4</td>\n",
       "      <td>0</td>\n",
       "      <td>1</td>\n",
       "      <td>1</td>\n",
       "      <td>14.76</td>\n",
       "      <td>17.425</td>\n",
       "      <td>57</td>\n",
       "      <td>8.9981</td>\n",
       "      <td>10</td>\n",
       "      <td>...</td>\n",
       "      <td>0</td>\n",
       "      <td>0</td>\n",
       "      <td>0</td>\n",
       "      <td>0</td>\n",
       "      <td>0</td>\n",
       "      <td>0</td>\n",
       "      <td>0</td>\n",
       "      <td>1</td>\n",
       "      <td>0</td>\n",
       "      <td>0</td>\n",
       "    </tr>\n",
       "    <tr>\n",
       "      <th>1164</th>\n",
       "      <td>2011-05-26 12:00:00</td>\n",
       "      <td>2</td>\n",
       "      <td>0</td>\n",
       "      <td>1</td>\n",
       "      <td>1</td>\n",
       "      <td>31.98</td>\n",
       "      <td>37.120</td>\n",
       "      <td>59</td>\n",
       "      <td>22.0028</td>\n",
       "      <td>5</td>\n",
       "      <td>...</td>\n",
       "      <td>0</td>\n",
       "      <td>0</td>\n",
       "      <td>1</td>\n",
       "      <td>0</td>\n",
       "      <td>0</td>\n",
       "      <td>0</td>\n",
       "      <td>0</td>\n",
       "      <td>0</td>\n",
       "      <td>0</td>\n",
       "      <td>0</td>\n",
       "    </tr>\n",
       "    <tr>\n",
       "      <th>1533</th>\n",
       "      <td>2011-06-29 21:00:00</td>\n",
       "      <td>3</td>\n",
       "      <td>0</td>\n",
       "      <td>1</td>\n",
       "      <td>1</td>\n",
       "      <td>29.52</td>\n",
       "      <td>32.575</td>\n",
       "      <td>39</td>\n",
       "      <td>15.0013</td>\n",
       "      <td>6</td>\n",
       "      <td>...</td>\n",
       "      <td>0</td>\n",
       "      <td>0</td>\n",
       "      <td>0</td>\n",
       "      <td>1</td>\n",
       "      <td>0</td>\n",
       "      <td>0</td>\n",
       "      <td>0</td>\n",
       "      <td>0</td>\n",
       "      <td>0</td>\n",
       "      <td>0</td>\n",
       "    </tr>\n",
       "    <tr>\n",
       "      <th>6260</th>\n",
       "      <td>2012-12-22 05:00:00</td>\n",
       "      <td>1</td>\n",
       "      <td>0</td>\n",
       "      <td>0</td>\n",
       "      <td>1</td>\n",
       "      <td>10.66</td>\n",
       "      <td>11.365</td>\n",
       "      <td>48</td>\n",
       "      <td>27.9993</td>\n",
       "      <td>12</td>\n",
       "      <td>...</td>\n",
       "      <td>0</td>\n",
       "      <td>0</td>\n",
       "      <td>0</td>\n",
       "      <td>0</td>\n",
       "      <td>0</td>\n",
       "      <td>0</td>\n",
       "      <td>0</td>\n",
       "      <td>0</td>\n",
       "      <td>0</td>\n",
       "      <td>1</td>\n",
       "    </tr>\n",
       "    <tr>\n",
       "      <th>5989</th>\n",
       "      <td>2012-11-21 21:00:00</td>\n",
       "      <td>4</td>\n",
       "      <td>0</td>\n",
       "      <td>1</td>\n",
       "      <td>1</td>\n",
       "      <td>14.76</td>\n",
       "      <td>18.940</td>\n",
       "      <td>50</td>\n",
       "      <td>0.0000</td>\n",
       "      <td>11</td>\n",
       "      <td>...</td>\n",
       "      <td>0</td>\n",
       "      <td>0</td>\n",
       "      <td>0</td>\n",
       "      <td>0</td>\n",
       "      <td>0</td>\n",
       "      <td>0</td>\n",
       "      <td>0</td>\n",
       "      <td>0</td>\n",
       "      <td>1</td>\n",
       "      <td>0</td>\n",
       "    </tr>\n",
       "    <tr>\n",
       "      <th>5766</th>\n",
       "      <td>2012-10-23 02:00:00</td>\n",
       "      <td>4</td>\n",
       "      <td>0</td>\n",
       "      <td>1</td>\n",
       "      <td>1</td>\n",
       "      <td>18.04</td>\n",
       "      <td>21.970</td>\n",
       "      <td>88</td>\n",
       "      <td>8.9981</td>\n",
       "      <td>10</td>\n",
       "      <td>...</td>\n",
       "      <td>0</td>\n",
       "      <td>0</td>\n",
       "      <td>0</td>\n",
       "      <td>0</td>\n",
       "      <td>0</td>\n",
       "      <td>0</td>\n",
       "      <td>0</td>\n",
       "      <td>1</td>\n",
       "      <td>0</td>\n",
       "      <td>0</td>\n",
       "    </tr>\n",
       "    <tr>\n",
       "      <th>3731</th>\n",
       "      <td>2012-02-29 07:00:00</td>\n",
       "      <td>1</td>\n",
       "      <td>0</td>\n",
       "      <td>1</td>\n",
       "      <td>2</td>\n",
       "      <td>10.66</td>\n",
       "      <td>13.635</td>\n",
       "      <td>81</td>\n",
       "      <td>8.9981</td>\n",
       "      <td>2</td>\n",
       "      <td>...</td>\n",
       "      <td>0</td>\n",
       "      <td>0</td>\n",
       "      <td>0</td>\n",
       "      <td>0</td>\n",
       "      <td>0</td>\n",
       "      <td>0</td>\n",
       "      <td>0</td>\n",
       "      <td>0</td>\n",
       "      <td>0</td>\n",
       "      <td>0</td>\n",
       "    </tr>\n",
       "  </tbody>\n",
       "</table>\n",
       "<p>10 rows × 57 columns</p>\n",
       "</div>"
      ],
      "text/plain": [
       "                 datetime  season  holiday  workingday  weather   temp  \\\n",
       "6007  2012-11-22 15:00:00       4        1           0        1  19.68   \n",
       "246   2011-01-31 13:00:00       1        0           1        2   6.56   \n",
       "4063  2012-04-21 03:00:00       2        0           0        1  20.50   \n",
       "5942  2012-10-31 22:00:00       4        0           1        1  14.76   \n",
       "1164  2011-05-26 12:00:00       2        0           1        1  31.98   \n",
       "1533  2011-06-29 21:00:00       3        0           1        1  29.52   \n",
       "6260  2012-12-22 05:00:00       1        0           0        1  10.66   \n",
       "5989  2012-11-21 21:00:00       4        0           1        1  14.76   \n",
       "5766  2012-10-23 02:00:00       4        0           1        1  18.04   \n",
       "3731  2012-02-29 07:00:00       1        0           1        2  10.66   \n",
       "\n",
       "       atemp  humidity  windspeed  mth  ...  m3  m4  m5  m6  m7  m8  m9  m10  \\\n",
       "6007  23.485        29     0.0000   11  ...   0   0   0   0   0   0   0    0   \n",
       "246   11.365        59     0.0000    1  ...   0   0   0   0   0   0   0    0   \n",
       "4063  24.240        82    15.0013    4  ...   0   1   0   0   0   0   0    0   \n",
       "5942  17.425        57     8.9981   10  ...   0   0   0   0   0   0   0    1   \n",
       "1164  37.120        59    22.0028    5  ...   0   0   1   0   0   0   0    0   \n",
       "1533  32.575        39    15.0013    6  ...   0   0   0   1   0   0   0    0   \n",
       "6260  11.365        48    27.9993   12  ...   0   0   0   0   0   0   0    0   \n",
       "5989  18.940        50     0.0000   11  ...   0   0   0   0   0   0   0    0   \n",
       "5766  21.970        88     8.9981   10  ...   0   0   0   0   0   0   0    1   \n",
       "3731  13.635        81     8.9981    2  ...   0   0   0   0   0   0   0    0   \n",
       "\n",
       "      m11  m12  \n",
       "6007    1    0  \n",
       "246     0    0  \n",
       "4063    0    0  \n",
       "5942    0    0  \n",
       "1164    0    0  \n",
       "1533    0    0  \n",
       "6260    0    1  \n",
       "5989    1    0  \n",
       "5766    0    0  \n",
       "3731    0    0  \n",
       "\n",
       "[10 rows x 57 columns]"
      ]
     },
     "execution_count": 51,
     "metadata": {},
     "output_type": "execute_result"
    }
   ],
   "source": [
    "test['mth'] = pd.DatetimeIndex(test['datetime']).month\n",
    "test['yr'] = pd.DatetimeIndex(test['datetime']).year\n",
    "test['dy'] = pd.DatetimeIndex(test['datetime']).day\n",
    "test['hr'] = pd.DatetimeIndex(test['datetime']).hour\n",
    "\n",
    "for i in test.groupby(\"season\").count().index:\n",
    "    s = 's' + str(i)\n",
    "    a = []\n",
    "    for j in test.season:\n",
    "        if j==i:\n",
    "            a.append(1)\n",
    "        else:\n",
    "            a.append(0)\n",
    "    test[s] = a\n",
    "for i in test.groupby(\"weather\").count().index:\n",
    "    s = 'w' + str(i)\n",
    "    a = []\n",
    "    for j in test.weather:\n",
    "        if j==i:\n",
    "            a.append(1)\n",
    "        else:\n",
    "            a.append(0)\n",
    "    test[s] = a\n",
    "for i in test.groupby('hr').count().index:\n",
    "    s = 'hr'+str(i)\n",
    "    a=[]\n",
    "    for j in test.hr:\n",
    "        if j==i:\n",
    "            a.append(1)\n",
    "        else:\n",
    "            a.append(0)\n",
    "    test[s]=a\n",
    "for i in test.groupby(\"mth\").count().index:\n",
    "    s = 'm' + str(i)\n",
    "    a = []\n",
    "    for j in test.mth:\n",
    "        if j==i:\n",
    "            a.append(1)\n",
    "        else:\n",
    "            a.append(0)\n",
    "    test[s] = a\n",
    "test.sample(10)"
   ]
  },
  {
   "cell_type": "code",
   "execution_count": 52,
   "metadata": {},
   "outputs": [
    {
     "data": {
      "text/plain": [
       "<bound method NDFrame.describe of       hr0  hr1  hr2  hr3  hr4  hr5  hr6  hr7  hr8  hr9  ...  s3  s4  holiday  \\\n",
       "0       1    0    0    0    0    0    0    0    0    0  ...   0   0        0   \n",
       "1       0    1    0    0    0    0    0    0    0    0  ...   0   0        0   \n",
       "2       0    0    1    0    0    0    0    0    0    0  ...   0   0        0   \n",
       "3       0    0    0    1    0    0    0    0    0    0  ...   0   0        0   \n",
       "4       0    0    0    0    1    0    0    0    0    0  ...   0   0        0   \n",
       "...   ...  ...  ...  ...  ...  ...  ...  ...  ...  ...  ...  ..  ..      ...   \n",
       "6488    0    0    0    0    0    0    0    0    0    0  ...   0   0        0   \n",
       "6489    0    0    0    0    0    0    0    0    0    0  ...   0   0        0   \n",
       "6490    0    0    0    0    0    0    0    0    0    0  ...   0   0        0   \n",
       "6491    0    0    0    0    0    0    0    0    0    0  ...   0   0        0   \n",
       "6492    0    0    0    0    0    0    0    0    0    0  ...   0   0        0   \n",
       "\n",
       "      workingday  w1  w2  w3  w4   temp  humidity  \n",
       "0              1   1   0   0   0  10.66        56  \n",
       "1              1   1   0   0   0  10.66        56  \n",
       "2              1   1   0   0   0  10.66        56  \n",
       "3              1   1   0   0   0  10.66        56  \n",
       "4              1   1   0   0   0  10.66        56  \n",
       "...          ...  ..  ..  ..  ..    ...       ...  \n",
       "6488           1   0   1   0   0  10.66        60  \n",
       "6489           1   0   1   0   0  10.66        60  \n",
       "6490           1   1   0   0   0  10.66        60  \n",
       "6491           1   1   0   0   0  10.66        56  \n",
       "6492           1   1   0   0   0  10.66        65  \n",
       "\n",
       "[6493 rows x 49 columns]>"
      ]
     },
     "execution_count": 52,
     "metadata": {},
     "output_type": "execute_result"
    }
   ],
   "source": [
    "test = test[['hr0','hr1','hr2','hr3','hr4','hr5','hr6','hr7','hr8','hr9','hr10','hr11','hr12','hr13','hr14','hr15','hr16','hr17','hr18',\n",
    "                 'hr19','hr20','hr21','hr22','hr23','m1','m2','m3','m4','m5','m6','m7','m8','m9','m10','m11','m12','yr',\n",
    "                 's1','s2','s3','s4','holiday','workingday','w1','w2','w3','w4','temp','humidity']]\n",
    "test.describe"
   ]
  },
  {
   "cell_type": "markdown",
   "metadata": {},
   "source": [
    "## Predicting the output over test set"
   ]
  },
  {
   "cell_type": "code",
   "execution_count": 53,
   "metadata": {},
   "outputs": [
    {
     "data": {
      "text/plain": [
       "<bound method NDFrame.describe of             cout\n",
       "0      12.318333\n",
       "1       4.880000\n",
       "2       3.860000\n",
       "3       3.790000\n",
       "4       2.878000\n",
       "...          ...\n",
       "6488  225.010000\n",
       "6489  145.920000\n",
       "6490  121.270000\n",
       "6491   98.570000\n",
       "6492   59.921333\n",
       "\n",
       "[6493 rows x 1 columns]>"
      ]
     },
     "execution_count": 53,
     "metadata": {},
     "output_type": "execute_result"
    }
   ],
   "source": [
    "pre_cas = rf1.predict(test)\n",
    "pre_reg = rf2.predict(test)\n",
    "final_predictions = pd.DataFrame(pre_cas+pre_reg,columns = ['cout'])\n",
    "\n",
    "final_predictions.describe"
   ]
  },
  {
   "cell_type": "code",
   "execution_count": 54,
   "metadata": {},
   "outputs": [],
   "source": [
    "s=[]\n",
    "for j in final_predictions.cout:\n",
    "    if int(j)<1:\n",
    "        s.append(1)\n",
    "    else:\n",
    "        s.append(j)\n",
    "final_predictions['count'] = s "
   ]
  },
  {
   "cell_type": "markdown",
   "metadata": {},
   "source": [
    "**Since we know that the output is never less than 1 we have to replace all negative values with 1.**"
   ]
  },
  {
   "cell_type": "code",
   "execution_count": 55,
   "metadata": {},
   "outputs": [
    {
     "data": {
      "text/plain": [
       "<bound method NDFrame.describe of             cout       count\n",
       "0      12.318333   12.318333\n",
       "1       4.880000    4.880000\n",
       "2       3.860000    3.860000\n",
       "3       3.790000    3.790000\n",
       "4       2.878000    2.878000\n",
       "...          ...         ...\n",
       "6488  225.010000  225.010000\n",
       "6489  145.920000  145.920000\n",
       "6490  121.270000  121.270000\n",
       "6491   98.570000   98.570000\n",
       "6492   59.921333   59.921333\n",
       "\n",
       "[6493 rows x 2 columns]>"
      ]
     },
     "execution_count": 55,
     "metadata": {},
     "output_type": "execute_result"
    }
   ],
   "source": [
    "final_predictions.describe"
   ]
  },
  {
   "cell_type": "code",
   "execution_count": 56,
   "metadata": {},
   "outputs": [],
   "source": [
    "final_predictions['datetime']=test_file['datetime']\n",
    "final_predictions = final_predictions[['datetime','count']]"
   ]
  },
  {
   "cell_type": "code",
   "execution_count": 57,
   "metadata": {},
   "outputs": [
    {
     "data": {
      "text/html": [
       "<div>\n",
       "<style scoped>\n",
       "    .dataframe tbody tr th:only-of-type {\n",
       "        vertical-align: middle;\n",
       "    }\n",
       "\n",
       "    .dataframe tbody tr th {\n",
       "        vertical-align: top;\n",
       "    }\n",
       "\n",
       "    .dataframe thead th {\n",
       "        text-align: right;\n",
       "    }\n",
       "</style>\n",
       "<table border=\"1\" class=\"dataframe\">\n",
       "  <thead>\n",
       "    <tr style=\"text-align: right;\">\n",
       "      <th></th>\n",
       "      <th>count</th>\n",
       "    </tr>\n",
       "  </thead>\n",
       "  <tbody>\n",
       "    <tr>\n",
       "      <th>count</th>\n",
       "      <td>6493.000000</td>\n",
       "    </tr>\n",
       "    <tr>\n",
       "      <th>mean</th>\n",
       "      <td>191.098547</td>\n",
       "    </tr>\n",
       "    <tr>\n",
       "      <th>std</th>\n",
       "      <td>171.672983</td>\n",
       "    </tr>\n",
       "    <tr>\n",
       "      <th>min</th>\n",
       "      <td>1.315000</td>\n",
       "    </tr>\n",
       "    <tr>\n",
       "      <th>25%</th>\n",
       "      <td>52.632500</td>\n",
       "    </tr>\n",
       "    <tr>\n",
       "      <th>50%</th>\n",
       "      <td>149.328333</td>\n",
       "    </tr>\n",
       "    <tr>\n",
       "      <th>75%</th>\n",
       "      <td>281.643000</td>\n",
       "    </tr>\n",
       "    <tr>\n",
       "      <th>max</th>\n",
       "      <td>926.750000</td>\n",
       "    </tr>\n",
       "  </tbody>\n",
       "</table>\n",
       "</div>"
      ],
      "text/plain": [
       "             count\n",
       "count  6493.000000\n",
       "mean    191.098547\n",
       "std     171.672983\n",
       "min       1.315000\n",
       "25%      52.632500\n",
       "50%     149.328333\n",
       "75%     281.643000\n",
       "max     926.750000"
      ]
     },
     "execution_count": 57,
     "metadata": {},
     "output_type": "execute_result"
    }
   ],
   "source": [
    "final_predictions.describe()"
   ]
  },
  {
   "cell_type": "markdown",
   "metadata": {},
   "source": [
    "## Exporting output to csv"
   ]
  },
  {
   "cell_type": "code",
   "execution_count": 58,
   "metadata": {},
   "outputs": [],
   "source": [
    "final_predictions.to_csv('submission.csv',index=False)"
   ]
  }
 ],
 "metadata": {
  "kernelspec": {
   "display_name": "Python 3",
   "language": "python",
   "name": "python3"
  },
  "language_info": {
   "codemirror_mode": {
    "name": "ipython",
    "version": 3
   },
   "file_extension": ".py",
   "mimetype": "text/x-python",
   "name": "python",
   "nbconvert_exporter": "python",
   "pygments_lexer": "ipython3",
   "version": "3.6.6"
  }
 },
 "nbformat": 4,
 "nbformat_minor": 4
}
